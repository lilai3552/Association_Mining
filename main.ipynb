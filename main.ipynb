{
 "cells": [
  {
   "cell_type": "markdown",
   "id": "a77eff40",
   "metadata": {},
   "source": [
    "### Association Rule Mining"
   ]
  },
  {
   "cell_type": "code",
   "execution_count": 8,
   "id": "71d4c023",
   "metadata": {},
   "outputs": [
    {
     "name": "stdout",
     "output_type": "stream",
     "text": [
      "<class 'pandas.core.frame.DataFrame'>\n",
      "RangeIndex: 38765 entries, 0 to 38764\n",
      "Data columns (total 3 columns):\n",
      " #   Column           Non-Null Count  Dtype \n",
      "---  ------           --------------  ----- \n",
      " 0   Member_number    38765 non-null  int64 \n",
      " 1   Date             38765 non-null  object\n",
      " 2   itemDescription  38765 non-null  object\n",
      "dtypes: int64(1), object(2)\n",
      "memory usage: 908.7+ KB\n"
     ]
    }
   ],
   "source": [
    "import pandas as pd\n",
    "import numpy as np\n",
    "import time\n",
    "from mlxtend.frequent_patterns import apriori, association_rules\n",
    "from mlxtend.preprocessing import TransactionEncoder\n",
    "# Load dataset\n",
    "df = pd.read_csv('Groceries_dataset.csv', header=0)\n",
    "\n",
    "df.info()"
   ]
  },
  {
   "cell_type": "code",
   "execution_count": 9,
   "id": "dff7e4d2",
   "metadata": {},
   "outputs": [
    {
     "data": {
      "application/vnd.microsoft.datawrangler.viewer.v0+json": {
       "columns": [
        {
         "name": "index",
         "rawType": "int64",
         "type": "integer"
        },
        {
         "name": "Member_number",
         "rawType": "int64",
         "type": "integer"
        },
        {
         "name": "Date",
         "rawType": "object",
         "type": "string"
        },
        {
         "name": "itemDescription",
         "rawType": "object",
         "type": "string"
        }
       ],
       "ref": "eb348db7-7078-4471-ae01-98123bc1c95b",
       "rows": [
        [
         "0",
         "1808",
         "21-07-2015",
         "tropical fruit"
        ],
        [
         "1",
         "2552",
         "05-01-2015",
         "whole milk"
        ],
        [
         "2",
         "2300",
         "19-09-2015",
         "pip fruit"
        ],
        [
         "3",
         "1187",
         "12-12-2015",
         "other vegetables"
        ],
        [
         "4",
         "3037",
         "01-02-2015",
         "whole milk"
        ]
       ],
       "shape": {
        "columns": 3,
        "rows": 5
       }
      },
      "text/html": [
       "<div>\n",
       "<style scoped>\n",
       "    .dataframe tbody tr th:only-of-type {\n",
       "        vertical-align: middle;\n",
       "    }\n",
       "\n",
       "    .dataframe tbody tr th {\n",
       "        vertical-align: top;\n",
       "    }\n",
       "\n",
       "    .dataframe thead th {\n",
       "        text-align: right;\n",
       "    }\n",
       "</style>\n",
       "<table border=\"1\" class=\"dataframe\">\n",
       "  <thead>\n",
       "    <tr style=\"text-align: right;\">\n",
       "      <th></th>\n",
       "      <th>Member_number</th>\n",
       "      <th>Date</th>\n",
       "      <th>itemDescription</th>\n",
       "    </tr>\n",
       "  </thead>\n",
       "  <tbody>\n",
       "    <tr>\n",
       "      <th>0</th>\n",
       "      <td>1808</td>\n",
       "      <td>21-07-2015</td>\n",
       "      <td>tropical fruit</td>\n",
       "    </tr>\n",
       "    <tr>\n",
       "      <th>1</th>\n",
       "      <td>2552</td>\n",
       "      <td>05-01-2015</td>\n",
       "      <td>whole milk</td>\n",
       "    </tr>\n",
       "    <tr>\n",
       "      <th>2</th>\n",
       "      <td>2300</td>\n",
       "      <td>19-09-2015</td>\n",
       "      <td>pip fruit</td>\n",
       "    </tr>\n",
       "    <tr>\n",
       "      <th>3</th>\n",
       "      <td>1187</td>\n",
       "      <td>12-12-2015</td>\n",
       "      <td>other vegetables</td>\n",
       "    </tr>\n",
       "    <tr>\n",
       "      <th>4</th>\n",
       "      <td>3037</td>\n",
       "      <td>01-02-2015</td>\n",
       "      <td>whole milk</td>\n",
       "    </tr>\n",
       "  </tbody>\n",
       "</table>\n",
       "</div>"
      ],
      "text/plain": [
       "   Member_number        Date   itemDescription\n",
       "0           1808  21-07-2015    tropical fruit\n",
       "1           2552  05-01-2015        whole milk\n",
       "2           2300  19-09-2015         pip fruit\n",
       "3           1187  12-12-2015  other vegetables\n",
       "4           3037  01-02-2015        whole milk"
      ]
     },
     "execution_count": 9,
     "metadata": {},
     "output_type": "execute_result"
    }
   ],
   "source": [
    "df.head()"
   ]
  },
  {
   "cell_type": "code",
   "execution_count": 10,
   "id": "5bffbb69",
   "metadata": {},
   "outputs": [
    {
     "name": "stderr",
     "output_type": "stream",
     "text": [
      "C:\\Users\\lilai\\AppData\\Local\\Temp\\ipykernel_8756\\2204074254.py:4: UserWarning: Parsing dates in %d-%m-%Y format when dayfirst=False (the default) was specified. Pass `dayfirst=True` or specify a format to silence this warning.\n",
      "  df['Date'] = pd.to_datetime(df['Date'])\n"
     ]
    },
    {
     "data": {
      "application/vnd.microsoft.datawrangler.viewer.v0+json": {
       "columns": [
        {
         "name": "index",
         "rawType": "int64",
         "type": "integer"
        },
        {
         "name": "Member_number",
         "rawType": "int64",
         "type": "integer"
        },
        {
         "name": "Date",
         "rawType": "datetime64[ns]",
         "type": "datetime"
        },
        {
         "name": "itemDescription",
         "rawType": "object",
         "type": "string"
        }
       ],
       "ref": "7956894b-b398-4a57-b23a-6e638d6630c0",
       "rows": [
        [
         "0",
         "1808",
         "2015-07-21 00:00:00",
         "tropical fruit"
        ],
        [
         "1",
         "2552",
         "2015-01-05 00:00:00",
         "whole milk"
        ],
        [
         "2",
         "2300",
         "2015-09-19 00:00:00",
         "pip fruit"
        ],
        [
         "3",
         "1187",
         "2015-12-12 00:00:00",
         "other vegetables"
        ],
        [
         "4",
         "3037",
         "2015-02-01 00:00:00",
         "whole milk"
        ]
       ],
       "shape": {
        "columns": 3,
        "rows": 5
       }
      },
      "text/html": [
       "<div>\n",
       "<style scoped>\n",
       "    .dataframe tbody tr th:only-of-type {\n",
       "        vertical-align: middle;\n",
       "    }\n",
       "\n",
       "    .dataframe tbody tr th {\n",
       "        vertical-align: top;\n",
       "    }\n",
       "\n",
       "    .dataframe thead th {\n",
       "        text-align: right;\n",
       "    }\n",
       "</style>\n",
       "<table border=\"1\" class=\"dataframe\">\n",
       "  <thead>\n",
       "    <tr style=\"text-align: right;\">\n",
       "      <th></th>\n",
       "      <th>Member_number</th>\n",
       "      <th>Date</th>\n",
       "      <th>itemDescription</th>\n",
       "    </tr>\n",
       "  </thead>\n",
       "  <tbody>\n",
       "    <tr>\n",
       "      <th>0</th>\n",
       "      <td>1808</td>\n",
       "      <td>2015-07-21</td>\n",
       "      <td>tropical fruit</td>\n",
       "    </tr>\n",
       "    <tr>\n",
       "      <th>1</th>\n",
       "      <td>2552</td>\n",
       "      <td>2015-01-05</td>\n",
       "      <td>whole milk</td>\n",
       "    </tr>\n",
       "    <tr>\n",
       "      <th>2</th>\n",
       "      <td>2300</td>\n",
       "      <td>2015-09-19</td>\n",
       "      <td>pip fruit</td>\n",
       "    </tr>\n",
       "    <tr>\n",
       "      <th>3</th>\n",
       "      <td>1187</td>\n",
       "      <td>2015-12-12</td>\n",
       "      <td>other vegetables</td>\n",
       "    </tr>\n",
       "    <tr>\n",
       "      <th>4</th>\n",
       "      <td>3037</td>\n",
       "      <td>2015-02-01</td>\n",
       "      <td>whole milk</td>\n",
       "    </tr>\n",
       "  </tbody>\n",
       "</table>\n",
       "</div>"
      ],
      "text/plain": [
       "   Member_number       Date   itemDescription\n",
       "0           1808 2015-07-21    tropical fruit\n",
       "1           2552 2015-01-05        whole milk\n",
       "2           2300 2015-09-19         pip fruit\n",
       "3           1187 2015-12-12  other vegetables\n",
       "4           3037 2015-02-01        whole milk"
      ]
     },
     "execution_count": 10,
     "metadata": {},
     "output_type": "execute_result"
    }
   ],
   "source": [
    "#clearing column names\n",
    "df.columns = df.columns.str.strip()\n",
    "#altering date column to datetime format\n",
    "df['Date'] = pd.to_datetime(df['Date'])\n",
    "df.head()"
   ]
  },
  {
   "cell_type": "code",
   "execution_count": 11,
   "id": "19fb3559",
   "metadata": {},
   "outputs": [
    {
     "data": {
      "application/vnd.microsoft.datawrangler.viewer.v0+json": {
       "columns": [
        {
         "name": "index",
         "rawType": "int64",
         "type": "integer"
        },
        {
         "name": "Member_number",
         "rawType": "int64",
         "type": "integer"
        },
        {
         "name": "Date",
         "rawType": "datetime64[ns]",
         "type": "datetime"
        },
        {
         "name": "itemDescription",
         "rawType": "object",
         "type": "unknown"
        }
       ],
       "ref": "fdfac1cd-80c4-48f7-96a4-64346177f7db",
       "rows": [
        [
         "0",
         "1000",
         "2014-06-24 00:00:00",
         "['whole milk', 'pastry', 'salty snack']"
        ],
        [
         "1",
         "1000",
         "2015-03-15 00:00:00",
         "['sausage', 'whole milk', 'semi-finished bread', 'yogurt']"
        ],
        [
         "2",
         "1000",
         "2015-05-27 00:00:00",
         "['soda', 'pickled vegetables']"
        ],
        [
         "3",
         "1000",
         "2015-07-24 00:00:00",
         "['canned beer', 'misc. beverages']"
        ],
        [
         "4",
         "1000",
         "2015-11-25 00:00:00",
         "['sausage', 'hygiene articles']"
        ]
       ],
       "shape": {
        "columns": 3,
        "rows": 5
       }
      },
      "text/html": [
       "<div>\n",
       "<style scoped>\n",
       "    .dataframe tbody tr th:only-of-type {\n",
       "        vertical-align: middle;\n",
       "    }\n",
       "\n",
       "    .dataframe tbody tr th {\n",
       "        vertical-align: top;\n",
       "    }\n",
       "\n",
       "    .dataframe thead th {\n",
       "        text-align: right;\n",
       "    }\n",
       "</style>\n",
       "<table border=\"1\" class=\"dataframe\">\n",
       "  <thead>\n",
       "    <tr style=\"text-align: right;\">\n",
       "      <th></th>\n",
       "      <th>Member_number</th>\n",
       "      <th>Date</th>\n",
       "      <th>itemDescription</th>\n",
       "    </tr>\n",
       "  </thead>\n",
       "  <tbody>\n",
       "    <tr>\n",
       "      <th>0</th>\n",
       "      <td>1000</td>\n",
       "      <td>2014-06-24</td>\n",
       "      <td>[whole milk, pastry, salty snack]</td>\n",
       "    </tr>\n",
       "    <tr>\n",
       "      <th>1</th>\n",
       "      <td>1000</td>\n",
       "      <td>2015-03-15</td>\n",
       "      <td>[sausage, whole milk, semi-finished bread, yog...</td>\n",
       "    </tr>\n",
       "    <tr>\n",
       "      <th>2</th>\n",
       "      <td>1000</td>\n",
       "      <td>2015-05-27</td>\n",
       "      <td>[soda, pickled vegetables]</td>\n",
       "    </tr>\n",
       "    <tr>\n",
       "      <th>3</th>\n",
       "      <td>1000</td>\n",
       "      <td>2015-07-24</td>\n",
       "      <td>[canned beer, misc. beverages]</td>\n",
       "    </tr>\n",
       "    <tr>\n",
       "      <th>4</th>\n",
       "      <td>1000</td>\n",
       "      <td>2015-11-25</td>\n",
       "      <td>[sausage, hygiene articles]</td>\n",
       "    </tr>\n",
       "  </tbody>\n",
       "</table>\n",
       "</div>"
      ],
      "text/plain": [
       "   Member_number       Date                                    itemDescription\n",
       "0           1000 2014-06-24                  [whole milk, pastry, salty snack]\n",
       "1           1000 2015-03-15  [sausage, whole milk, semi-finished bread, yog...\n",
       "2           1000 2015-05-27                         [soda, pickled vegetables]\n",
       "3           1000 2015-07-24                     [canned beer, misc. beverages]\n",
       "4           1000 2015-11-25                        [sausage, hygiene articles]"
      ]
     },
     "execution_count": 11,
     "metadata": {},
     "output_type": "execute_result"
    }
   ],
   "source": [
    "#Group Items by Transaction (Member + Date)\n",
    "df_grouped = df.groupby(['Member_number', 'Date'])['itemDescription'].apply(list).reset_index()\n",
    "df_grouped.head()"
   ]
  },
  {
   "cell_type": "code",
   "execution_count": 15,
   "id": "156362c4",
   "metadata": {},
   "outputs": [
    {
     "data": {
      "application/vnd.microsoft.datawrangler.viewer.v0+json": {
       "columns": [
        {
         "name": "index",
         "rawType": "int64",
         "type": "integer"
        },
        {
         "name": "Instant food products",
         "rawType": "bool",
         "type": "boolean"
        },
        {
         "name": "UHT-milk",
         "rawType": "bool",
         "type": "boolean"
        },
        {
         "name": "abrasive cleaner",
         "rawType": "bool",
         "type": "boolean"
        },
        {
         "name": "artif. sweetener",
         "rawType": "bool",
         "type": "boolean"
        },
        {
         "name": "baby cosmetics",
         "rawType": "bool",
         "type": "boolean"
        },
        {
         "name": "bags",
         "rawType": "bool",
         "type": "boolean"
        },
        {
         "name": "baking powder",
         "rawType": "bool",
         "type": "boolean"
        },
        {
         "name": "bathroom cleaner",
         "rawType": "bool",
         "type": "boolean"
        },
        {
         "name": "beef",
         "rawType": "bool",
         "type": "boolean"
        },
        {
         "name": "berries",
         "rawType": "bool",
         "type": "boolean"
        },
        {
         "name": "beverages",
         "rawType": "bool",
         "type": "boolean"
        },
        {
         "name": "bottled beer",
         "rawType": "bool",
         "type": "boolean"
        },
        {
         "name": "bottled water",
         "rawType": "bool",
         "type": "boolean"
        },
        {
         "name": "brandy",
         "rawType": "bool",
         "type": "boolean"
        },
        {
         "name": "brown bread",
         "rawType": "bool",
         "type": "boolean"
        },
        {
         "name": "butter",
         "rawType": "bool",
         "type": "boolean"
        },
        {
         "name": "butter milk",
         "rawType": "bool",
         "type": "boolean"
        },
        {
         "name": "cake bar",
         "rawType": "bool",
         "type": "boolean"
        },
        {
         "name": "candles",
         "rawType": "bool",
         "type": "boolean"
        },
        {
         "name": "candy",
         "rawType": "bool",
         "type": "boolean"
        },
        {
         "name": "canned beer",
         "rawType": "bool",
         "type": "boolean"
        },
        {
         "name": "canned fish",
         "rawType": "bool",
         "type": "boolean"
        },
        {
         "name": "canned fruit",
         "rawType": "bool",
         "type": "boolean"
        },
        {
         "name": "canned vegetables",
         "rawType": "bool",
         "type": "boolean"
        },
        {
         "name": "cat food",
         "rawType": "bool",
         "type": "boolean"
        },
        {
         "name": "cereals",
         "rawType": "bool",
         "type": "boolean"
        },
        {
         "name": "chewing gum",
         "rawType": "bool",
         "type": "boolean"
        },
        {
         "name": "chicken",
         "rawType": "bool",
         "type": "boolean"
        },
        {
         "name": "chocolate",
         "rawType": "bool",
         "type": "boolean"
        },
        {
         "name": "chocolate marshmallow",
         "rawType": "bool",
         "type": "boolean"
        },
        {
         "name": "citrus fruit",
         "rawType": "bool",
         "type": "boolean"
        },
        {
         "name": "cleaner",
         "rawType": "bool",
         "type": "boolean"
        },
        {
         "name": "cling film/bags",
         "rawType": "bool",
         "type": "boolean"
        },
        {
         "name": "cocoa drinks",
         "rawType": "bool",
         "type": "boolean"
        },
        {
         "name": "coffee",
         "rawType": "bool",
         "type": "boolean"
        },
        {
         "name": "condensed milk",
         "rawType": "bool",
         "type": "boolean"
        },
        {
         "name": "cooking chocolate",
         "rawType": "bool",
         "type": "boolean"
        },
        {
         "name": "cookware",
         "rawType": "bool",
         "type": "boolean"
        },
        {
         "name": "cream",
         "rawType": "bool",
         "type": "boolean"
        },
        {
         "name": "cream cheese ",
         "rawType": "bool",
         "type": "boolean"
        },
        {
         "name": "curd",
         "rawType": "bool",
         "type": "boolean"
        },
        {
         "name": "curd cheese",
         "rawType": "bool",
         "type": "boolean"
        },
        {
         "name": "decalcifier",
         "rawType": "bool",
         "type": "boolean"
        },
        {
         "name": "dental care",
         "rawType": "bool",
         "type": "boolean"
        },
        {
         "name": "dessert",
         "rawType": "bool",
         "type": "boolean"
        },
        {
         "name": "detergent",
         "rawType": "bool",
         "type": "boolean"
        },
        {
         "name": "dish cleaner",
         "rawType": "bool",
         "type": "boolean"
        },
        {
         "name": "dishes",
         "rawType": "bool",
         "type": "boolean"
        },
        {
         "name": "dog food",
         "rawType": "bool",
         "type": "boolean"
        },
        {
         "name": "domestic eggs",
         "rawType": "bool",
         "type": "boolean"
        },
        {
         "name": "female sanitary products",
         "rawType": "bool",
         "type": "boolean"
        },
        {
         "name": "finished products",
         "rawType": "bool",
         "type": "boolean"
        },
        {
         "name": "fish",
         "rawType": "bool",
         "type": "boolean"
        },
        {
         "name": "flour",
         "rawType": "bool",
         "type": "boolean"
        },
        {
         "name": "flower (seeds)",
         "rawType": "bool",
         "type": "boolean"
        },
        {
         "name": "flower soil/fertilizer",
         "rawType": "bool",
         "type": "boolean"
        },
        {
         "name": "frankfurter",
         "rawType": "bool",
         "type": "boolean"
        },
        {
         "name": "frozen chicken",
         "rawType": "bool",
         "type": "boolean"
        },
        {
         "name": "frozen dessert",
         "rawType": "bool",
         "type": "boolean"
        },
        {
         "name": "frozen fish",
         "rawType": "bool",
         "type": "boolean"
        },
        {
         "name": "frozen fruits",
         "rawType": "bool",
         "type": "boolean"
        },
        {
         "name": "frozen meals",
         "rawType": "bool",
         "type": "boolean"
        },
        {
         "name": "frozen potato products",
         "rawType": "bool",
         "type": "boolean"
        },
        {
         "name": "frozen vegetables",
         "rawType": "bool",
         "type": "boolean"
        },
        {
         "name": "fruit/vegetable juice",
         "rawType": "bool",
         "type": "boolean"
        },
        {
         "name": "grapes",
         "rawType": "bool",
         "type": "boolean"
        },
        {
         "name": "hair spray",
         "rawType": "bool",
         "type": "boolean"
        },
        {
         "name": "ham",
         "rawType": "bool",
         "type": "boolean"
        },
        {
         "name": "hamburger meat",
         "rawType": "bool",
         "type": "boolean"
        },
        {
         "name": "hard cheese",
         "rawType": "bool",
         "type": "boolean"
        },
        {
         "name": "herbs",
         "rawType": "bool",
         "type": "boolean"
        },
        {
         "name": "honey",
         "rawType": "bool",
         "type": "boolean"
        },
        {
         "name": "house keeping products",
         "rawType": "bool",
         "type": "boolean"
        },
        {
         "name": "hygiene articles",
         "rawType": "bool",
         "type": "boolean"
        },
        {
         "name": "ice cream",
         "rawType": "bool",
         "type": "boolean"
        },
        {
         "name": "instant coffee",
         "rawType": "bool",
         "type": "boolean"
        },
        {
         "name": "jam",
         "rawType": "bool",
         "type": "boolean"
        },
        {
         "name": "ketchup",
         "rawType": "bool",
         "type": "boolean"
        },
        {
         "name": "kitchen towels",
         "rawType": "bool",
         "type": "boolean"
        },
        {
         "name": "kitchen utensil",
         "rawType": "bool",
         "type": "boolean"
        },
        {
         "name": "light bulbs",
         "rawType": "bool",
         "type": "boolean"
        },
        {
         "name": "liqueur",
         "rawType": "bool",
         "type": "boolean"
        },
        {
         "name": "liquor",
         "rawType": "bool",
         "type": "boolean"
        },
        {
         "name": "liquor (appetizer)",
         "rawType": "bool",
         "type": "boolean"
        },
        {
         "name": "liver loaf",
         "rawType": "bool",
         "type": "boolean"
        },
        {
         "name": "long life bakery product",
         "rawType": "bool",
         "type": "boolean"
        },
        {
         "name": "make up remover",
         "rawType": "bool",
         "type": "boolean"
        },
        {
         "name": "male cosmetics",
         "rawType": "bool",
         "type": "boolean"
        },
        {
         "name": "margarine",
         "rawType": "bool",
         "type": "boolean"
        },
        {
         "name": "mayonnaise",
         "rawType": "bool",
         "type": "boolean"
        },
        {
         "name": "meat",
         "rawType": "bool",
         "type": "boolean"
        },
        {
         "name": "meat spreads",
         "rawType": "bool",
         "type": "boolean"
        },
        {
         "name": "misc. beverages",
         "rawType": "bool",
         "type": "boolean"
        },
        {
         "name": "mustard",
         "rawType": "bool",
         "type": "boolean"
        },
        {
         "name": "napkins",
         "rawType": "bool",
         "type": "boolean"
        },
        {
         "name": "newspapers",
         "rawType": "bool",
         "type": "boolean"
        },
        {
         "name": "nut snack",
         "rawType": "bool",
         "type": "boolean"
        },
        {
         "name": "nuts/prunes",
         "rawType": "bool",
         "type": "boolean"
        },
        {
         "name": "oil",
         "rawType": "bool",
         "type": "boolean"
        },
        {
         "name": "onions",
         "rawType": "bool",
         "type": "boolean"
        },
        {
         "name": "organic products",
         "rawType": "bool",
         "type": "boolean"
        },
        {
         "name": "organic sausage",
         "rawType": "bool",
         "type": "boolean"
        },
        {
         "name": "other vegetables",
         "rawType": "bool",
         "type": "boolean"
        },
        {
         "name": "packaged fruit/vegetables",
         "rawType": "bool",
         "type": "boolean"
        },
        {
         "name": "pasta",
         "rawType": "bool",
         "type": "boolean"
        },
        {
         "name": "pastry",
         "rawType": "bool",
         "type": "boolean"
        },
        {
         "name": "pet care",
         "rawType": "bool",
         "type": "boolean"
        },
        {
         "name": "photo/film",
         "rawType": "bool",
         "type": "boolean"
        },
        {
         "name": "pickled vegetables",
         "rawType": "bool",
         "type": "boolean"
        },
        {
         "name": "pip fruit",
         "rawType": "bool",
         "type": "boolean"
        },
        {
         "name": "popcorn",
         "rawType": "bool",
         "type": "boolean"
        },
        {
         "name": "pork",
         "rawType": "bool",
         "type": "boolean"
        },
        {
         "name": "pot plants",
         "rawType": "bool",
         "type": "boolean"
        },
        {
         "name": "potato products",
         "rawType": "bool",
         "type": "boolean"
        },
        {
         "name": "preservation products",
         "rawType": "bool",
         "type": "boolean"
        },
        {
         "name": "processed cheese",
         "rawType": "bool",
         "type": "boolean"
        },
        {
         "name": "prosecco",
         "rawType": "bool",
         "type": "boolean"
        },
        {
         "name": "pudding powder",
         "rawType": "bool",
         "type": "boolean"
        },
        {
         "name": "ready soups",
         "rawType": "bool",
         "type": "boolean"
        },
        {
         "name": "red/blush wine",
         "rawType": "bool",
         "type": "boolean"
        },
        {
         "name": "rice",
         "rawType": "bool",
         "type": "boolean"
        },
        {
         "name": "roll products ",
         "rawType": "bool",
         "type": "boolean"
        },
        {
         "name": "rolls/buns",
         "rawType": "bool",
         "type": "boolean"
        },
        {
         "name": "root vegetables",
         "rawType": "bool",
         "type": "boolean"
        },
        {
         "name": "rubbing alcohol",
         "rawType": "bool",
         "type": "boolean"
        },
        {
         "name": "rum",
         "rawType": "bool",
         "type": "boolean"
        },
        {
         "name": "salad dressing",
         "rawType": "bool",
         "type": "boolean"
        },
        {
         "name": "salt",
         "rawType": "bool",
         "type": "boolean"
        },
        {
         "name": "salty snack",
         "rawType": "bool",
         "type": "boolean"
        },
        {
         "name": "sauces",
         "rawType": "bool",
         "type": "boolean"
        },
        {
         "name": "sausage",
         "rawType": "bool",
         "type": "boolean"
        },
        {
         "name": "seasonal products",
         "rawType": "bool",
         "type": "boolean"
        },
        {
         "name": "semi-finished bread",
         "rawType": "bool",
         "type": "boolean"
        },
        {
         "name": "shopping bags",
         "rawType": "bool",
         "type": "boolean"
        },
        {
         "name": "skin care",
         "rawType": "bool",
         "type": "boolean"
        },
        {
         "name": "sliced cheese",
         "rawType": "bool",
         "type": "boolean"
        },
        {
         "name": "snack products",
         "rawType": "bool",
         "type": "boolean"
        },
        {
         "name": "soap",
         "rawType": "bool",
         "type": "boolean"
        },
        {
         "name": "soda",
         "rawType": "bool",
         "type": "boolean"
        },
        {
         "name": "soft cheese",
         "rawType": "bool",
         "type": "boolean"
        },
        {
         "name": "softener",
         "rawType": "bool",
         "type": "boolean"
        },
        {
         "name": "soups",
         "rawType": "bool",
         "type": "boolean"
        },
        {
         "name": "sparkling wine",
         "rawType": "bool",
         "type": "boolean"
        },
        {
         "name": "specialty bar",
         "rawType": "bool",
         "type": "boolean"
        },
        {
         "name": "specialty cheese",
         "rawType": "bool",
         "type": "boolean"
        },
        {
         "name": "specialty chocolate",
         "rawType": "bool",
         "type": "boolean"
        },
        {
         "name": "specialty fat",
         "rawType": "bool",
         "type": "boolean"
        },
        {
         "name": "specialty vegetables",
         "rawType": "bool",
         "type": "boolean"
        },
        {
         "name": "spices",
         "rawType": "bool",
         "type": "boolean"
        },
        {
         "name": "spread cheese",
         "rawType": "bool",
         "type": "boolean"
        },
        {
         "name": "sugar",
         "rawType": "bool",
         "type": "boolean"
        },
        {
         "name": "sweet spreads",
         "rawType": "bool",
         "type": "boolean"
        },
        {
         "name": "syrup",
         "rawType": "bool",
         "type": "boolean"
        },
        {
         "name": "tea",
         "rawType": "bool",
         "type": "boolean"
        },
        {
         "name": "tidbits",
         "rawType": "bool",
         "type": "boolean"
        },
        {
         "name": "toilet cleaner",
         "rawType": "bool",
         "type": "boolean"
        },
        {
         "name": "tropical fruit",
         "rawType": "bool",
         "type": "boolean"
        },
        {
         "name": "turkey",
         "rawType": "bool",
         "type": "boolean"
        },
        {
         "name": "vinegar",
         "rawType": "bool",
         "type": "boolean"
        },
        {
         "name": "waffles",
         "rawType": "bool",
         "type": "boolean"
        },
        {
         "name": "whipped/sour cream",
         "rawType": "bool",
         "type": "boolean"
        },
        {
         "name": "whisky",
         "rawType": "bool",
         "type": "boolean"
        },
        {
         "name": "white bread",
         "rawType": "bool",
         "type": "boolean"
        },
        {
         "name": "white wine",
         "rawType": "bool",
         "type": "boolean"
        },
        {
         "name": "whole milk",
         "rawType": "bool",
         "type": "boolean"
        },
        {
         "name": "yogurt",
         "rawType": "bool",
         "type": "boolean"
        },
        {
         "name": "zwieback",
         "rawType": "bool",
         "type": "boolean"
        }
       ],
       "ref": "93cdb1ec-d275-4aba-836c-dd7a5be1f181",
       "rows": [
        [
         "0",
         "False",
         "False",
         "False",
         "False",
         "False",
         "False",
         "False",
         "False",
         "False",
         "False",
         "False",
         "False",
         "False",
         "False",
         "False",
         "False",
         "False",
         "False",
         "False",
         "False",
         "False",
         "False",
         "False",
         "False",
         "False",
         "False",
         "False",
         "False",
         "False",
         "False",
         "False",
         "False",
         "False",
         "False",
         "False",
         "False",
         "False",
         "False",
         "False",
         "False",
         "False",
         "False",
         "False",
         "False",
         "False",
         "False",
         "False",
         "False",
         "False",
         "False",
         "False",
         "False",
         "False",
         "False",
         "False",
         "False",
         "False",
         "False",
         "False",
         "False",
         "False",
         "False",
         "False",
         "False",
         "False",
         "False",
         "False",
         "False",
         "False",
         "False",
         "False",
         "False",
         "False",
         "False",
         "False",
         "False",
         "False",
         "False",
         "False",
         "False",
         "False",
         "False",
         "False",
         "False",
         "False",
         "False",
         "False",
         "False",
         "False",
         "False",
         "False",
         "False",
         "False",
         "False",
         "False",
         "False",
         "False",
         "False",
         "False",
         "False",
         "False",
         "False",
         "False",
         "False",
         "False",
         "True",
         "False",
         "False",
         "False",
         "False",
         "False",
         "False",
         "False",
         "False",
         "False",
         "False",
         "False",
         "False",
         "False",
         "False",
         "False",
         "False",
         "False",
         "False",
         "False",
         "False",
         "False",
         "False",
         "True",
         "False",
         "False",
         "False",
         "False",
         "False",
         "False",
         "False",
         "False",
         "False",
         "False",
         "False",
         "False",
         "False",
         "False",
         "False",
         "False",
         "False",
         "False",
         "False",
         "False",
         "False",
         "False",
         "False",
         "False",
         "False",
         "False",
         "False",
         "False",
         "False",
         "False",
         "False",
         "False",
         "False",
         "False",
         "False",
         "True",
         "False",
         "False"
        ],
        [
         "1",
         "False",
         "False",
         "False",
         "False",
         "False",
         "False",
         "False",
         "False",
         "False",
         "False",
         "False",
         "False",
         "False",
         "False",
         "False",
         "False",
         "False",
         "False",
         "False",
         "False",
         "False",
         "False",
         "False",
         "False",
         "False",
         "False",
         "False",
         "False",
         "False",
         "False",
         "False",
         "False",
         "False",
         "False",
         "False",
         "False",
         "False",
         "False",
         "False",
         "False",
         "False",
         "False",
         "False",
         "False",
         "False",
         "False",
         "False",
         "False",
         "False",
         "False",
         "False",
         "False",
         "False",
         "False",
         "False",
         "False",
         "False",
         "False",
         "False",
         "False",
         "False",
         "False",
         "False",
         "False",
         "False",
         "False",
         "False",
         "False",
         "False",
         "False",
         "False",
         "False",
         "False",
         "False",
         "False",
         "False",
         "False",
         "False",
         "False",
         "False",
         "False",
         "False",
         "False",
         "False",
         "False",
         "False",
         "False",
         "False",
         "False",
         "False",
         "False",
         "False",
         "False",
         "False",
         "False",
         "False",
         "False",
         "False",
         "False",
         "False",
         "False",
         "False",
         "False",
         "False",
         "False",
         "False",
         "False",
         "False",
         "False",
         "False",
         "False",
         "False",
         "False",
         "False",
         "False",
         "False",
         "False",
         "False",
         "False",
         "False",
         "False",
         "False",
         "False",
         "False",
         "False",
         "False",
         "False",
         "False",
         "False",
         "False",
         "True",
         "False",
         "True",
         "False",
         "False",
         "False",
         "False",
         "False",
         "False",
         "False",
         "False",
         "False",
         "False",
         "False",
         "False",
         "False",
         "False",
         "False",
         "False",
         "False",
         "False",
         "False",
         "False",
         "False",
         "False",
         "False",
         "False",
         "False",
         "False",
         "False",
         "False",
         "False",
         "False",
         "False",
         "True",
         "True",
         "False"
        ],
        [
         "2",
         "False",
         "False",
         "False",
         "False",
         "False",
         "False",
         "False",
         "False",
         "False",
         "False",
         "False",
         "False",
         "False",
         "False",
         "False",
         "False",
         "False",
         "False",
         "False",
         "False",
         "False",
         "False",
         "False",
         "False",
         "False",
         "False",
         "False",
         "False",
         "False",
         "False",
         "False",
         "False",
         "False",
         "False",
         "False",
         "False",
         "False",
         "False",
         "False",
         "False",
         "False",
         "False",
         "False",
         "False",
         "False",
         "False",
         "False",
         "False",
         "False",
         "False",
         "False",
         "False",
         "False",
         "False",
         "False",
         "False",
         "False",
         "False",
         "False",
         "False",
         "False",
         "False",
         "False",
         "False",
         "False",
         "False",
         "False",
         "False",
         "False",
         "False",
         "False",
         "False",
         "False",
         "False",
         "False",
         "False",
         "False",
         "False",
         "False",
         "False",
         "False",
         "False",
         "False",
         "False",
         "False",
         "False",
         "False",
         "False",
         "False",
         "False",
         "False",
         "False",
         "False",
         "False",
         "False",
         "False",
         "False",
         "False",
         "False",
         "False",
         "False",
         "False",
         "False",
         "False",
         "False",
         "False",
         "False",
         "False",
         "True",
         "False",
         "False",
         "False",
         "False",
         "False",
         "False",
         "False",
         "False",
         "False",
         "False",
         "False",
         "False",
         "False",
         "False",
         "False",
         "False",
         "False",
         "False",
         "False",
         "False",
         "False",
         "False",
         "False",
         "False",
         "False",
         "False",
         "False",
         "False",
         "False",
         "True",
         "False",
         "False",
         "False",
         "False",
         "False",
         "False",
         "False",
         "False",
         "False",
         "False",
         "False",
         "False",
         "False",
         "False",
         "False",
         "False",
         "False",
         "False",
         "False",
         "False",
         "False",
         "False",
         "False",
         "False",
         "False",
         "False",
         "False",
         "False"
        ],
        [
         "3",
         "False",
         "False",
         "False",
         "False",
         "False",
         "False",
         "False",
         "False",
         "False",
         "False",
         "False",
         "False",
         "False",
         "False",
         "False",
         "False",
         "False",
         "False",
         "False",
         "False",
         "True",
         "False",
         "False",
         "False",
         "False",
         "False",
         "False",
         "False",
         "False",
         "False",
         "False",
         "False",
         "False",
         "False",
         "False",
         "False",
         "False",
         "False",
         "False",
         "False",
         "False",
         "False",
         "False",
         "False",
         "False",
         "False",
         "False",
         "False",
         "False",
         "False",
         "False",
         "False",
         "False",
         "False",
         "False",
         "False",
         "False",
         "False",
         "False",
         "False",
         "False",
         "False",
         "False",
         "False",
         "False",
         "False",
         "False",
         "False",
         "False",
         "False",
         "False",
         "False",
         "False",
         "False",
         "False",
         "False",
         "False",
         "False",
         "False",
         "False",
         "False",
         "False",
         "False",
         "False",
         "False",
         "False",
         "False",
         "False",
         "False",
         "False",
         "False",
         "False",
         "True",
         "False",
         "False",
         "False",
         "False",
         "False",
         "False",
         "False",
         "False",
         "False",
         "False",
         "False",
         "False",
         "False",
         "False",
         "False",
         "False",
         "False",
         "False",
         "False",
         "False",
         "False",
         "False",
         "False",
         "False",
         "False",
         "False",
         "False",
         "False",
         "False",
         "False",
         "False",
         "False",
         "False",
         "False",
         "False",
         "False",
         "False",
         "False",
         "False",
         "False",
         "False",
         "False",
         "False",
         "False",
         "False",
         "False",
         "False",
         "False",
         "False",
         "False",
         "False",
         "False",
         "False",
         "False",
         "False",
         "False",
         "False",
         "False",
         "False",
         "False",
         "False",
         "False",
         "False",
         "False",
         "False",
         "False",
         "False",
         "False",
         "False",
         "False",
         "False",
         "False",
         "False",
         "False"
        ],
        [
         "4",
         "False",
         "False",
         "False",
         "False",
         "False",
         "False",
         "False",
         "False",
         "False",
         "False",
         "False",
         "False",
         "False",
         "False",
         "False",
         "False",
         "False",
         "False",
         "False",
         "False",
         "False",
         "False",
         "False",
         "False",
         "False",
         "False",
         "False",
         "False",
         "False",
         "False",
         "False",
         "False",
         "False",
         "False",
         "False",
         "False",
         "False",
         "False",
         "False",
         "False",
         "False",
         "False",
         "False",
         "False",
         "False",
         "False",
         "False",
         "False",
         "False",
         "False",
         "False",
         "False",
         "False",
         "False",
         "False",
         "False",
         "False",
         "False",
         "False",
         "False",
         "False",
         "False",
         "False",
         "False",
         "False",
         "False",
         "False",
         "False",
         "False",
         "False",
         "False",
         "False",
         "False",
         "True",
         "False",
         "False",
         "False",
         "False",
         "False",
         "False",
         "False",
         "False",
         "False",
         "False",
         "False",
         "False",
         "False",
         "False",
         "False",
         "False",
         "False",
         "False",
         "False",
         "False",
         "False",
         "False",
         "False",
         "False",
         "False",
         "False",
         "False",
         "False",
         "False",
         "False",
         "False",
         "False",
         "False",
         "False",
         "False",
         "False",
         "False",
         "False",
         "False",
         "False",
         "False",
         "False",
         "False",
         "False",
         "False",
         "False",
         "False",
         "False",
         "False",
         "False",
         "False",
         "False",
         "False",
         "False",
         "False",
         "False",
         "True",
         "False",
         "False",
         "False",
         "False",
         "False",
         "False",
         "False",
         "False",
         "False",
         "False",
         "False",
         "False",
         "False",
         "False",
         "False",
         "False",
         "False",
         "False",
         "False",
         "False",
         "False",
         "False",
         "False",
         "False",
         "False",
         "False",
         "False",
         "False",
         "False",
         "False",
         "False",
         "False",
         "False",
         "False",
         "False",
         "False"
        ]
       ],
       "shape": {
        "columns": 167,
        "rows": 5
       }
      },
      "text/html": [
       "<div>\n",
       "<style scoped>\n",
       "    .dataframe tbody tr th:only-of-type {\n",
       "        vertical-align: middle;\n",
       "    }\n",
       "\n",
       "    .dataframe tbody tr th {\n",
       "        vertical-align: top;\n",
       "    }\n",
       "\n",
       "    .dataframe thead th {\n",
       "        text-align: right;\n",
       "    }\n",
       "</style>\n",
       "<table border=\"1\" class=\"dataframe\">\n",
       "  <thead>\n",
       "    <tr style=\"text-align: right;\">\n",
       "      <th></th>\n",
       "      <th>Instant food products</th>\n",
       "      <th>UHT-milk</th>\n",
       "      <th>abrasive cleaner</th>\n",
       "      <th>artif. sweetener</th>\n",
       "      <th>baby cosmetics</th>\n",
       "      <th>bags</th>\n",
       "      <th>baking powder</th>\n",
       "      <th>bathroom cleaner</th>\n",
       "      <th>beef</th>\n",
       "      <th>berries</th>\n",
       "      <th>...</th>\n",
       "      <th>turkey</th>\n",
       "      <th>vinegar</th>\n",
       "      <th>waffles</th>\n",
       "      <th>whipped/sour cream</th>\n",
       "      <th>whisky</th>\n",
       "      <th>white bread</th>\n",
       "      <th>white wine</th>\n",
       "      <th>whole milk</th>\n",
       "      <th>yogurt</th>\n",
       "      <th>zwieback</th>\n",
       "    </tr>\n",
       "  </thead>\n",
       "  <tbody>\n",
       "    <tr>\n",
       "      <th>0</th>\n",
       "      <td>False</td>\n",
       "      <td>False</td>\n",
       "      <td>False</td>\n",
       "      <td>False</td>\n",
       "      <td>False</td>\n",
       "      <td>False</td>\n",
       "      <td>False</td>\n",
       "      <td>False</td>\n",
       "      <td>False</td>\n",
       "      <td>False</td>\n",
       "      <td>...</td>\n",
       "      <td>False</td>\n",
       "      <td>False</td>\n",
       "      <td>False</td>\n",
       "      <td>False</td>\n",
       "      <td>False</td>\n",
       "      <td>False</td>\n",
       "      <td>False</td>\n",
       "      <td>True</td>\n",
       "      <td>False</td>\n",
       "      <td>False</td>\n",
       "    </tr>\n",
       "    <tr>\n",
       "      <th>1</th>\n",
       "      <td>False</td>\n",
       "      <td>False</td>\n",
       "      <td>False</td>\n",
       "      <td>False</td>\n",
       "      <td>False</td>\n",
       "      <td>False</td>\n",
       "      <td>False</td>\n",
       "      <td>False</td>\n",
       "      <td>False</td>\n",
       "      <td>False</td>\n",
       "      <td>...</td>\n",
       "      <td>False</td>\n",
       "      <td>False</td>\n",
       "      <td>False</td>\n",
       "      <td>False</td>\n",
       "      <td>False</td>\n",
       "      <td>False</td>\n",
       "      <td>False</td>\n",
       "      <td>True</td>\n",
       "      <td>True</td>\n",
       "      <td>False</td>\n",
       "    </tr>\n",
       "    <tr>\n",
       "      <th>2</th>\n",
       "      <td>False</td>\n",
       "      <td>False</td>\n",
       "      <td>False</td>\n",
       "      <td>False</td>\n",
       "      <td>False</td>\n",
       "      <td>False</td>\n",
       "      <td>False</td>\n",
       "      <td>False</td>\n",
       "      <td>False</td>\n",
       "      <td>False</td>\n",
       "      <td>...</td>\n",
       "      <td>False</td>\n",
       "      <td>False</td>\n",
       "      <td>False</td>\n",
       "      <td>False</td>\n",
       "      <td>False</td>\n",
       "      <td>False</td>\n",
       "      <td>False</td>\n",
       "      <td>False</td>\n",
       "      <td>False</td>\n",
       "      <td>False</td>\n",
       "    </tr>\n",
       "    <tr>\n",
       "      <th>3</th>\n",
       "      <td>False</td>\n",
       "      <td>False</td>\n",
       "      <td>False</td>\n",
       "      <td>False</td>\n",
       "      <td>False</td>\n",
       "      <td>False</td>\n",
       "      <td>False</td>\n",
       "      <td>False</td>\n",
       "      <td>False</td>\n",
       "      <td>False</td>\n",
       "      <td>...</td>\n",
       "      <td>False</td>\n",
       "      <td>False</td>\n",
       "      <td>False</td>\n",
       "      <td>False</td>\n",
       "      <td>False</td>\n",
       "      <td>False</td>\n",
       "      <td>False</td>\n",
       "      <td>False</td>\n",
       "      <td>False</td>\n",
       "      <td>False</td>\n",
       "    </tr>\n",
       "    <tr>\n",
       "      <th>4</th>\n",
       "      <td>False</td>\n",
       "      <td>False</td>\n",
       "      <td>False</td>\n",
       "      <td>False</td>\n",
       "      <td>False</td>\n",
       "      <td>False</td>\n",
       "      <td>False</td>\n",
       "      <td>False</td>\n",
       "      <td>False</td>\n",
       "      <td>False</td>\n",
       "      <td>...</td>\n",
       "      <td>False</td>\n",
       "      <td>False</td>\n",
       "      <td>False</td>\n",
       "      <td>False</td>\n",
       "      <td>False</td>\n",
       "      <td>False</td>\n",
       "      <td>False</td>\n",
       "      <td>False</td>\n",
       "      <td>False</td>\n",
       "      <td>False</td>\n",
       "    </tr>\n",
       "  </tbody>\n",
       "</table>\n",
       "<p>5 rows × 167 columns</p>\n",
       "</div>"
      ],
      "text/plain": [
       "   Instant food products  UHT-milk  abrasive cleaner  artif. sweetener  \\\n",
       "0                  False     False             False             False   \n",
       "1                  False     False             False             False   \n",
       "2                  False     False             False             False   \n",
       "3                  False     False             False             False   \n",
       "4                  False     False             False             False   \n",
       "\n",
       "   baby cosmetics   bags  baking powder  bathroom cleaner   beef  berries  \\\n",
       "0           False  False          False             False  False    False   \n",
       "1           False  False          False             False  False    False   \n",
       "2           False  False          False             False  False    False   \n",
       "3           False  False          False             False  False    False   \n",
       "4           False  False          False             False  False    False   \n",
       "\n",
       "   ...  turkey  vinegar  waffles  whipped/sour cream  whisky  white bread  \\\n",
       "0  ...   False    False    False               False   False        False   \n",
       "1  ...   False    False    False               False   False        False   \n",
       "2  ...   False    False    False               False   False        False   \n",
       "3  ...   False    False    False               False   False        False   \n",
       "4  ...   False    False    False               False   False        False   \n",
       "\n",
       "   white wine  whole milk  yogurt  zwieback  \n",
       "0       False        True   False     False  \n",
       "1       False        True    True     False  \n",
       "2       False       False   False     False  \n",
       "3       False       False   False     False  \n",
       "4       False       False   False     False  \n",
       "\n",
       "[5 rows x 167 columns]"
      ]
     },
     "execution_count": 15,
     "metadata": {},
     "output_type": "execute_result"
    }
   ],
   "source": [
    "#one-hot encoding the dataset\n",
    "te = TransactionEncoder()\n",
    "te_ary = te.fit(df_grouped['itemDescription']).transform(df_grouped['itemDescription'])\n",
    "df_encoded = pd.DataFrame(te_ary, columns=te.columns_)\n",
    "df_encoded.head()"
   ]
  },
  {
   "cell_type": "code",
   "execution_count": 32,
   "id": "3a6d3a71",
   "metadata": {},
   "outputs": [
    {
     "data": {
      "text/plain": [
       "(14963, 167)"
      ]
     },
     "execution_count": 32,
     "metadata": {},
     "output_type": "execute_result"
    }
   ],
   "source": [
    "df_encoded.shape"
   ]
  },
  {
   "cell_type": "code",
   "execution_count": 16,
   "id": "a4787a27",
   "metadata": {},
   "outputs": [],
   "source": [
    "#chopping dataset to 6 with diifferent transactions\n",
    "basket1 = df_encoded.head(500)\n",
    "basket2 = df_encoded.head(1000)\n",
    "basket3 = df_encoded.head(5000)\n",
    "basket4 = df_encoded.head(10000)\n",
    "basket5 = df_encoded.copy()\n"
   ]
  },
  {
   "cell_type": "code",
   "execution_count": 46,
   "id": "43115ae0",
   "metadata": {},
   "outputs": [
    {
     "name": "stdout",
     "output_type": "stream",
     "text": [
      "Basket Size: 500, Time Taken: 0.0120 seconds, Number of Frequent Itemsets: 172\n",
      "Basket Size: 1000, Time Taken: 0.0198 seconds, Number of Frequent Itemsets: 173\n",
      "Basket Size: 5000, Time Taken: 0.0569 seconds, Number of Frequent Itemsets: 131\n",
      "Basket Size: 10000, Time Taken: 0.1873 seconds, Number of Frequent Itemsets: 131\n",
      "Basket Size: Full, Time Taken: 0.1256 seconds, Number of Frequent Itemsets: 126\n",
      "  Basket Size  Time Taken (s)  Number of Frequent Itemsets\n",
      "0         500        0.011976                          172\n",
      "1        1000        0.019798                          173\n",
      "2        5000        0.056908                          131\n",
      "3       10000        0.187252                          131\n",
      "4        Full        0.125577                          126\n"
     ]
    }
   ],
   "source": [
    "#Creating list of transactions\n",
    "baskets = [basket1, basket2, basket3, basket4, basket5]\n",
    "basket_sizes = ['500', '1000', '5000', '10000', 'Full']\n",
    "results = []\n",
    "#Running Apriori algorithm on different basket sizes\n",
    "for i in range(len(baskets)):\n",
    "    start_time = time.time()\n",
    "    frequent_itemsets = apriori(baskets[i], min_support=0.005, use_colnames=True)\n",
    "    end_time = time.time()\n",
    "    duration = end_time - start_time\n",
    "    results.append((basket_sizes[i], duration, len(frequent_itemsets)))\n",
    "    print(f\"Basket Size: {basket_sizes[i]}, Time Taken: {duration:.4f} seconds, Number of Frequent Itemsets: {len(frequent_itemsets)}\")\n",
    "#Displaying results\n",
    "results_df = pd.DataFrame(results, columns=['Basket Size', 'Time Taken (s)', 'Number of Frequent Itemsets'])\n",
    "print(results_df)"
   ]
  },
  {
   "cell_type": "code",
   "execution_count": 47,
   "id": "a54cdd03",
   "metadata": {},
   "outputs": [
    {
     "name": "stdout",
     "output_type": "stream",
     "text": [
      "          antecedents         consequents  antecedent support  \\\n",
      "0  (other vegetables)       (frankfurter)            0.122101   \n",
      "1       (frankfurter)  (other vegetables)            0.037760   \n",
      "2              (soda)           (sausage)            0.097106   \n",
      "3           (sausage)              (soda)            0.060349   \n",
      "4           (sausage)            (yogurt)            0.060349   \n",
      "\n",
      "   consequent support   support  confidence      lift  representativity  \\\n",
      "0            0.037760  0.005146    0.042146  1.116150               1.0   \n",
      "1            0.122101  0.005146    0.136283  1.116150               1.0   \n",
      "2            0.060349  0.005948    0.061253  1.014975               1.0   \n",
      "3            0.097106  0.005948    0.098560  1.014975               1.0   \n",
      "4            0.085879  0.005748    0.095238  1.108986               1.0   \n",
      "\n",
      "   leverage  conviction  zhangs_metric   jaccard  certainty  kulczynski  \n",
      "0  0.000536    1.004579       0.118536  0.033261   0.004558    0.089214  \n",
      "1  0.000536    1.016420       0.108146  0.033261   0.016154    0.089214  \n",
      "2  0.000088    1.000963       0.016341  0.039259   0.000962    0.079906  \n",
      "3  0.000088    1.001613       0.015702  0.039259   0.001611    0.079906  \n",
      "4  0.000565    1.010345       0.104587  0.040913   0.010239    0.081082  \n"
     ]
    }
   ],
   "source": [
    "#top 5 frequent itemsets from the full basket\n",
    "frequent_itemsets = apriori(basket5, min_support=0.005, use_colnames=True)\n",
    "frequent_itemsets.sort_values(by='support', ascending=False).head()\n",
    "#printing association rules for full basket\n",
    "rules = association_rules(frequent_itemsets, metric=\"lift\", min_threshold=1)\n",
    "print(rules.head())"
   ]
  },
  {
   "cell_type": "code",
   "execution_count": 27,
   "id": "1fd195c2",
   "metadata": {},
   "outputs": [
    {
     "data": {
      "image/png": "[encoded data removed]",
      "text/plain": [
       "<Figure size 1000x600 with 1 Axes>"
      ]
     },
     "metadata": {},
     "output_type": "display_data"
    }
   ],
   "source": [
    "#graphing the results\n",
    "import matplotlib.pyplot as plt\n",
    "plt.figure(figsize=(10, 6))\n",
    "plt.plot(results_df['Basket Size'], results_df['Time Taken (s)'], marker='o')\n",
    "plt.title('Apriori Algorithm Performance')\n",
    "plt.xlabel('Basket Size')\n",
    "plt.ylabel('Time Taken (seconds)')\n",
    "plt.grid()\n",
    "plt.show()"
   ]
  },
  {
   "cell_type": "code",
   "execution_count": 26,
   "id": "6006bdec",
   "metadata": {},
   "outputs": [
    {
     "name": "stdout",
     "output_type": "stream",
     "text": [
      "  Basket Size  Estimated Time Taken (s)\n",
      "0         500              9.353610e+43\n",
      "1        1000              1.870722e+44\n",
      "2        5000              9.353610e+44\n",
      "3       10000              1.870722e+45\n",
      "4        Full              2.799161e+45\n"
     ]
    }
   ],
   "source": [
    "#estimating time taken for brutale force on different sizes\n",
    "m = df_encoded.shape[0]  # number of transactions\n",
    "n = df_encoded.shape[1]  # number of items\n",
    "bruteforce_times = []\n",
    "for size in basket_sizes:\n",
    "    if size == '500':\n",
    "        current_m = 500\n",
    "    elif size == '1000':\n",
    "        current_m = 1000\n",
    "    elif size == '5000':\n",
    "        current_m = 5000\n",
    "    elif size == '10000':\n",
    "        current_m = 10000\n",
    "    else:\n",
    "        current_m = m\n",
    "    estimated_time = (2 ** n) * current_m * 1e-9  # assuming 1 nanosecond per operation\n",
    "    bruteforce_times.append((size, estimated_time))\n",
    "#Displaying brutale force estimation results\n",
    "bruteforce_df = pd.DataFrame(bruteforce_times, columns=['Basket Size', 'Estimated Time Taken (s)'])\n",
    "print(bruteforce_df)"
   ]
  },
  {
   "cell_type": "code",
   "execution_count": 28,
   "id": "2ea23d39",
   "metadata": {},
   "outputs": [
    {
     "data": {
      "image/png": "[encoded data removed]",
      "text/plain": [
       "<Figure size 1000x600 with 1 Axes>"
      ]
     },
     "metadata": {},
     "output_type": "display_data"
    }
   ],
   "source": [
    "#graphing the results of brutale force estimation\n",
    "plt.figure(figsize=(10, 6))\n",
    "plt.plot(bruteforce_df['Basket Size'], bruteforce_df['Estimated Time Taken (s)'], marker='o', color='red')\n",
    "plt.title('Bruteforce Algorithm Estimated Performance')\n",
    "plt.xlabel('Basket Size')\n",
    "plt.ylabel('Estimated Time Taken (seconds)')\n",
    "plt.yscale('log')  # using logarithmic scale for better visualization\n",
    "plt.grid()\n",
    "plt.show()"
   ]
  },
  {
   "cell_type": "code",
   "execution_count": 48,
   "id": "3076843d",
   "metadata": {},
   "outputs": [
    {
     "name": "stdout",
     "output_type": "stream",
     "text": [
      "  Basket Size  Time Taken (s)  Number of Frequent Itemsets  \\\n",
      "0         500        0.011976                          172   \n",
      "1        1000        0.019798                          173   \n",
      "2        5000        0.056908                          131   \n",
      "3       10000        0.187252                          131   \n",
      "4        Full        0.125577                          126   \n",
      "\n",
      "   Estimated Time Taken (s)  \n",
      "0              9.353610e+43  \n",
      "1              1.870722e+44  \n",
      "2              9.353610e+44  \n",
      "3              1.870722e+45  \n",
      "4              2.799161e+45  \n"
     ]
    },
    {
     "data": {
      "image/png": "[encoded data removed]",
      "text/plain": [
       "<Figure size 500x300 with 1 Axes>"
      ]
     },
     "metadata": {},
     "output_type": "display_data"
    }
   ],
   "source": [
    "#comparing both results\n",
    "comparison_df = results_df.merge(bruteforce_df, on='Basket Size')\n",
    "print(comparison_df)\n",
    "#graphing comparison\n",
    "plt.figure(figsize=(5, 3))\n",
    "plt.plot(comparison_df['Basket Size'], comparison_df['Time Taken (s)'], marker='o', label='Apriori Time')\n",
    "plt.plot(comparison_df['Basket Size'], comparison_df['Estimated Time Taken (s)'], marker='o', label='Bruteforce Estimated Time')\n",
    "plt.title('Apriori vs Bruteforce Time Comparison')\n",
    "plt.xlabel('Basket Size')\n",
    "plt.ylabel('Time Taken (seconds)')\n",
    "plt.yscale('log')\n",
    "plt.legend()\n",
    "plt.grid()\n",
    "plt.show()"
   ]
  }
 ],
 "metadata": {
  "kernelspec": {
   "display_name": "Python 3",
   "language": "python",
   "name": "python3"
  },
  "language_info": {
   "codemirror_mode": {
    "name": "ipython",
    "version": 3
   },
   "file_extension": ".py",
   "mimetype": "text/x-python",
   "name": "python",
   "nbconvert_exporter": "python",
   "pygments_lexer": "ipython3",
   "version": "3.11.9"
  }
 },
 "nbformat": 4,
 "nbformat_minor": 5
}
