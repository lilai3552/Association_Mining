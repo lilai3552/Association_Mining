{
 "cells": [
  {
   "cell_type": "markdown",
   "id": "a77eff40",
   "metadata": {},
   "source": [
    "### Association Rules"
   ]
  },
  {
   "cell_type": "code",
   "execution_count": 1,
   "id": "49ab3d5e",
   "metadata": {},
   "outputs": [
    {
     "name": "stdout",
     "output_type": "stream",
     "text": [
      "Collecting apyori\n",
      "  Downloading apyori-1.1.2.tar.gz (8.6 kB)\n",
      "  Installing build dependencies: started\n",
      "  Installing build dependencies: finished with status 'done'\n",
      "  Getting requirements to build wheel: started\n",
      "  Getting requirements to build wheel: finished with status 'done'\n",
      "  Preparing metadata (pyproject.toml): started\n",
      "  Preparing metadata (pyproject.toml): finished with status 'done'\n",
      "Building wheels for collected packages: apyori\n",
      "  Building wheel for apyori (pyproject.toml): started\n",
      "  Building wheel for apyori (pyproject.toml): finished with status 'done'\n",
      "  Created wheel for apyori: filename=apyori-1.1.2-py3-none-any.whl size=6015 sha256=512f5ec698d3523b26db7fa67ea5d87b0d103579f9af15cfe932dbd06c2ae89e\n",
      "  Stored in directory: a:\\wpsystem\\s-1-5-21-910491398-3542826876-2768250131-1001\\appdata\\local\\packages\\pythonsoftwarefoundation.python.3.11_qbz5n2kfra8p0\\localcache\\local\\pip\\cache\\wheels\\77\\3d\\a6\\d317a6fb32be58a602b1e8c6b5d6f31f79322da554cad2a5ea\n",
      "Successfully built apyori\n",
      "Installing collected packages: apyori\n",
      "Successfully installed apyori-1.1.2\n"
     ]
    }
   ],
   "source": [
    "!pip install apyori"
   ]
  },
  {
   "cell_type": "code",
   "execution_count": 7,
   "id": "71d4c023",
   "metadata": {},
   "outputs": [
    {
     "name": "stdout",
     "output_type": "stream",
     "text": [
      "<class 'pandas.core.frame.DataFrame'>\n",
      "RangeIndex: 38765 entries, 0 to 38764\n",
      "Data columns (total 3 columns):\n",
      " #   Column           Non-Null Count  Dtype \n",
      "---  ------           --------------  ----- \n",
      " 0   Member_number    38765 non-null  int64 \n",
      " 1   Date             38765 non-null  object\n",
      " 2   itemDescription  38765 non-null  object\n",
      "dtypes: int64(1), object(2)\n",
      "memory usage: 908.7+ KB\n"
     ]
    }
   ],
   "source": [
    "import pandas as pd\n",
    "from apyori import apriori\n",
    "import numpy as np\n",
    "# Load dataset\n",
    "df = pd.read_csv('Groceries_dataset.csv', header=0)\n",
    "\n",
    "df.info()"
   ]
  },
  {
   "cell_type": "code",
   "execution_count": null,
   "id": "dff7e4d2",
   "metadata": {},
   "outputs": [
    {
     "data": {
      "application/vnd.microsoft.datawrangler.viewer.v0+json": {
       "columns": [
        {
         "name": "index",
         "rawType": "int64",
         "type": "integer"
        },
        {
         "name": "Member_number",
         "rawType": "int64",
         "type": "integer"
        },
        {
         "name": "Date",
         "rawType": "object",
         "type": "string"
        },
        {
         "name": "itemDescription",
         "rawType": "object",
         "type": "string"
        }
       ],
       "ref": "46b5271e-c434-4d9b-b846-e9da535f957b",
       "rows": [
        [
         "0",
         "1808",
         "21-07-2015",
         "tropical fruit"
        ],
        [
         "1",
         "2552",
         "05-01-2015",
         "whole milk"
        ],
        [
         "2",
         "2300",
         "19-09-2015",
         "pip fruit"
        ],
        [
         "3",
         "1187",
         "12-12-2015",
         "other vegetables"
        ],
        [
         "4",
         "3037",
         "01-02-2015",
         "whole milk"
        ]
       ],
       "shape": {
        "columns": 3,
        "rows": 5
       }
      },
      "text/html": [
       "<div>\n",
       "<style scoped>\n",
       "    .dataframe tbody tr th:only-of-type {\n",
       "        vertical-align: middle;\n",
       "    }\n",
       "\n",
       "    .dataframe tbody tr th {\n",
       "        vertical-align: top;\n",
       "    }\n",
       "\n",
       "    .dataframe thead th {\n",
       "        text-align: right;\n",
       "    }\n",
       "</style>\n",
       "<table border=\"1\" class=\"dataframe\">\n",
       "  <thead>\n",
       "    <tr style=\"text-align: right;\">\n",
       "      <th></th>\n",
       "      <th>Member_number</th>\n",
       "      <th>Date</th>\n",
       "      <th>itemDescription</th>\n",
       "    </tr>\n",
       "  </thead>\n",
       "  <tbody>\n",
       "    <tr>\n",
       "      <th>0</th>\n",
       "      <td>1808</td>\n",
       "      <td>21-07-2015</td>\n",
       "      <td>tropical fruit</td>\n",
       "    </tr>\n",
       "    <tr>\n",
       "      <th>1</th>\n",
       "      <td>2552</td>\n",
       "      <td>05-01-2015</td>\n",
       "      <td>whole milk</td>\n",
       "    </tr>\n",
       "    <tr>\n",
       "      <th>2</th>\n",
       "      <td>2300</td>\n",
       "      <td>19-09-2015</td>\n",
       "      <td>pip fruit</td>\n",
       "    </tr>\n",
       "    <tr>\n",
       "      <th>3</th>\n",
       "      <td>1187</td>\n",
       "      <td>12-12-2015</td>\n",
       "      <td>other vegetables</td>\n",
       "    </tr>\n",
       "    <tr>\n",
       "      <th>4</th>\n",
       "      <td>3037</td>\n",
       "      <td>01-02-2015</td>\n",
       "      <td>whole milk</td>\n",
       "    </tr>\n",
       "  </tbody>\n",
       "</table>\n",
       "</div>"
      ],
      "text/plain": [
       "   Member_number        Date   itemDescription\n",
       "0           1808  21-07-2015    tropical fruit\n",
       "1           2552  05-01-2015        whole milk\n",
       "2           2300  19-09-2015         pip fruit\n",
       "3           1187  12-12-2015  other vegetables\n",
       "4           3037  01-02-2015        whole milk"
      ]
     },
     "execution_count": 8,
     "metadata": {},
     "output_type": "execute_result"
    }
   ],
   "source": [
    "df.head()"
   ]
  },
  {
   "cell_type": "code",
   "execution_count": 12,
   "id": "305947de",
   "metadata": {},
   "outputs": [
    {
     "data": {
      "application/vnd.microsoft.datawrangler.viewer.v0+json": {
       "columns": [
        {
         "name": "index",
         "rawType": "object",
         "type": "string"
        },
        {
         "name": "0",
         "rawType": "int64",
         "type": "integer"
        }
       ],
       "ref": "d44e0b94-2e24-46ed-a271-3282761d271e",
       "rows": [
        [
         "Member_number",
         "0"
        ],
        [
         "Date",
         "0"
        ],
        [
         "itemDescription",
         "0"
        ]
       ],
       "shape": {
        "columns": 1,
        "rows": 3
       }
      },
      "text/plain": [
       "Member_number      0\n",
       "Date               0\n",
       "itemDescription    0\n",
       "dtype: int64"
      ]
     },
     "execution_count": 12,
     "metadata": {},
     "output_type": "execute_result"
    }
   ],
   "source": [
    "#checking for missing values\n",
    "df.isnull().sum()"
   ]
  },
  {
   "cell_type": "code",
   "execution_count": null,
   "id": "5bffbb69",
   "metadata": {},
   "outputs": [
    {
     "data": {
      "application/vnd.microsoft.datawrangler.viewer.v0+json": {
       "columns": [
        {
         "name": "index",
         "rawType": "int64",
         "type": "integer"
        },
        {
         "name": "Member_number",
         "rawType": "int64",
         "type": "integer"
        },
        {
         "name": "Date",
         "rawType": "datetime64[ns]",
         "type": "datetime"
        },
        {
         "name": "itemDescription",
         "rawType": "object",
         "type": "string"
        }
       ],
       "ref": "db3cd9ed-4f2c-41ed-b8c7-1ee2459a3cf4",
       "rows": [
        [
         "0",
         "1808",
         "2015-07-21 00:00:00",
         "tropical fruit"
        ],
        [
         "1",
         "2552",
         "2015-01-05 00:00:00",
         "whole milk"
        ],
        [
         "2",
         "2300",
         "2015-09-19 00:00:00",
         "pip fruit"
        ],
        [
         "3",
         "1187",
         "2015-12-12 00:00:00",
         "other vegetables"
        ],
        [
         "4",
         "3037",
         "2015-02-01 00:00:00",
         "whole milk"
        ]
       ],
       "shape": {
        "columns": 3,
        "rows": 5
       }
      },
      "text/html": [
       "<div>\n",
       "<style scoped>\n",
       "    .dataframe tbody tr th:only-of-type {\n",
       "        vertical-align: middle;\n",
       "    }\n",
       "\n",
       "    .dataframe tbody tr th {\n",
       "        vertical-align: top;\n",
       "    }\n",
       "\n",
       "    .dataframe thead th {\n",
       "        text-align: right;\n",
       "    }\n",
       "</style>\n",
       "<table border=\"1\" class=\"dataframe\">\n",
       "  <thead>\n",
       "    <tr style=\"text-align: right;\">\n",
       "      <th></th>\n",
       "      <th>Member_number</th>\n",
       "      <th>Date</th>\n",
       "      <th>itemDescription</th>\n",
       "    </tr>\n",
       "  </thead>\n",
       "  <tbody>\n",
       "    <tr>\n",
       "      <th>0</th>\n",
       "      <td>1808</td>\n",
       "      <td>2015-07-21</td>\n",
       "      <td>tropical fruit</td>\n",
       "    </tr>\n",
       "    <tr>\n",
       "      <th>1</th>\n",
       "      <td>2552</td>\n",
       "      <td>2015-01-05</td>\n",
       "      <td>whole milk</td>\n",
       "    </tr>\n",
       "    <tr>\n",
       "      <th>2</th>\n",
       "      <td>2300</td>\n",
       "      <td>2015-09-19</td>\n",
       "      <td>pip fruit</td>\n",
       "    </tr>\n",
       "    <tr>\n",
       "      <th>3</th>\n",
       "      <td>1187</td>\n",
       "      <td>2015-12-12</td>\n",
       "      <td>other vegetables</td>\n",
       "    </tr>\n",
       "    <tr>\n",
       "      <th>4</th>\n",
       "      <td>3037</td>\n",
       "      <td>2015-02-01</td>\n",
       "      <td>whole milk</td>\n",
       "    </tr>\n",
       "  </tbody>\n",
       "</table>\n",
       "</div>"
      ],
      "text/plain": [
       "   Member_number       Date   itemDescription\n",
       "0           1808 2015-07-21    tropical fruit\n",
       "1           2552 2015-01-05        whole milk\n",
       "2           2300 2015-09-19         pip fruit\n",
       "3           1187 2015-12-12  other vegetables\n",
       "4           3037 2015-02-01        whole milk"
      ]
     },
     "execution_count": 10,
     "metadata": {},
     "output_type": "execute_result"
    }
   ],
   "source": [
    "#clearing column names\n",
    "df.columns = df.columns.str.strip()\n",
    "#altering date column to datetime format\n",
    "df['Date'] = pd.to_datetime(df['Date'])\n",
    "df.head()"
   ]
  },
  {
   "cell_type": "code",
   "execution_count": 16,
   "id": "19fb3559",
   "metadata": {},
   "outputs": [
    {
     "data": {
      "application/vnd.microsoft.datawrangler.viewer.v0+json": {
       "columns": [
        {
         "name": "index",
         "rawType": "int64",
         "type": "integer"
        },
        {
         "name": "Member_number",
         "rawType": "int64",
         "type": "integer"
        },
        {
         "name": "Date",
         "rawType": "datetime64[ns]",
         "type": "datetime"
        },
        {
         "name": "itemDescription",
         "rawType": "object",
         "type": "string"
        },
        {
         "name": "TransactionID",
         "rawType": "object",
         "type": "string"
        }
       ],
       "ref": "891702fa-8c76-4138-9346-349420dce709",
       "rows": [
        [
         "0",
         "1808",
         "2015-07-21 00:00:00",
         "tropical fruit",
         "1808_2015-07-21"
        ],
        [
         "1",
         "2552",
         "2015-01-05 00:00:00",
         "whole milk",
         "2552_2015-01-05"
        ],
        [
         "2",
         "2300",
         "2015-09-19 00:00:00",
         "pip fruit",
         "2300_2015-09-19"
        ],
        [
         "3",
         "1187",
         "2015-12-12 00:00:00",
         "other vegetables",
         "1187_2015-12-12"
        ],
        [
         "4",
         "3037",
         "2015-02-01 00:00:00",
         "whole milk",
         "3037_2015-02-01"
        ]
       ],
       "shape": {
        "columns": 4,
        "rows": 5
       }
      },
      "text/html": [
       "<div>\n",
       "<style scoped>\n",
       "    .dataframe tbody tr th:only-of-type {\n",
       "        vertical-align: middle;\n",
       "    }\n",
       "\n",
       "    .dataframe tbody tr th {\n",
       "        vertical-align: top;\n",
       "    }\n",
       "\n",
       "    .dataframe thead th {\n",
       "        text-align: right;\n",
       "    }\n",
       "</style>\n",
       "<table border=\"1\" class=\"dataframe\">\n",
       "  <thead>\n",
       "    <tr style=\"text-align: right;\">\n",
       "      <th></th>\n",
       "      <th>Member_number</th>\n",
       "      <th>Date</th>\n",
       "      <th>itemDescription</th>\n",
       "      <th>TransactionID</th>\n",
       "    </tr>\n",
       "  </thead>\n",
       "  <tbody>\n",
       "    <tr>\n",
       "      <th>0</th>\n",
       "      <td>1808</td>\n",
       "      <td>2015-07-21</td>\n",
       "      <td>tropical fruit</td>\n",
       "      <td>1808_2015-07-21</td>\n",
       "    </tr>\n",
       "    <tr>\n",
       "      <th>1</th>\n",
       "      <td>2552</td>\n",
       "      <td>2015-01-05</td>\n",
       "      <td>whole milk</td>\n",
       "      <td>2552_2015-01-05</td>\n",
       "    </tr>\n",
       "    <tr>\n",
       "      <th>2</th>\n",
       "      <td>2300</td>\n",
       "      <td>2015-09-19</td>\n",
       "      <td>pip fruit</td>\n",
       "      <td>2300_2015-09-19</td>\n",
       "    </tr>\n",
       "    <tr>\n",
       "      <th>3</th>\n",
       "      <td>1187</td>\n",
       "      <td>2015-12-12</td>\n",
       "      <td>other vegetables</td>\n",
       "      <td>1187_2015-12-12</td>\n",
       "    </tr>\n",
       "    <tr>\n",
       "      <th>4</th>\n",
       "      <td>3037</td>\n",
       "      <td>2015-02-01</td>\n",
       "      <td>whole milk</td>\n",
       "      <td>3037_2015-02-01</td>\n",
       "    </tr>\n",
       "  </tbody>\n",
       "</table>\n",
       "</div>"
      ],
      "text/plain": [
       "   Member_number       Date   itemDescription    TransactionID\n",
       "0           1808 2015-07-21    tropical fruit  1808_2015-07-21\n",
       "1           2552 2015-01-05        whole milk  2552_2015-01-05\n",
       "2           2300 2015-09-19         pip fruit  2300_2015-09-19\n",
       "3           1187 2015-12-12  other vegetables  1187_2015-12-12\n",
       "4           3037 2015-02-01        whole milk  3037_2015-02-01"
      ]
     },
     "execution_count": 16,
     "metadata": {},
     "output_type": "execute_result"
    }
   ],
   "source": [
    "#integrating transactions per date\n",
    "df['TransactionID'] = df['Member_number'].astype(str) + '_' + df['Date'].dt.strftime('%Y-%m-%d')\n",
    "df.head()"
   ]
  },
  {
   "cell_type": "code",
   "execution_count": 17,
   "id": "e7b5dca7",
   "metadata": {},
   "outputs": [
    {
     "data": {
      "application/vnd.microsoft.datawrangler.viewer.v0+json": {
       "columns": [
        {
         "name": "index",
         "rawType": "int64",
         "type": "integer"
        },
        {
         "name": "TransactionID",
         "rawType": "object",
         "type": "string"
        },
        {
         "name": "itemDescription",
         "rawType": "object",
         "type": "string"
        }
       ],
       "ref": "e8c2b904-0db6-430e-8a39-f3b19376c3c4",
       "rows": [
        [
         "0",
         "1000_2014-06-24",
         "pastry,salty snack,whole milk"
        ],
        [
         "1",
         "1000_2015-03-15",
         "sausage,semi-finished bread,whole milk,yogurt"
        ],
        [
         "2",
         "1000_2015-05-27",
         "pickled vegetables,soda"
        ],
        [
         "3",
         "1000_2015-07-24",
         "canned beer,misc. beverages"
        ],
        [
         "4",
         "1000_2015-11-25",
         "hygiene articles,sausage"
        ]
       ],
       "shape": {
        "columns": 2,
        "rows": 5
       }
      },
      "text/html": [
       "<div>\n",
       "<style scoped>\n",
       "    .dataframe tbody tr th:only-of-type {\n",
       "        vertical-align: middle;\n",
       "    }\n",
       "\n",
       "    .dataframe tbody tr th {\n",
       "        vertical-align: top;\n",
       "    }\n",
       "\n",
       "    .dataframe thead th {\n",
       "        text-align: right;\n",
       "    }\n",
       "</style>\n",
       "<table border=\"1\" class=\"dataframe\">\n",
       "  <thead>\n",
       "    <tr style=\"text-align: right;\">\n",
       "      <th></th>\n",
       "      <th>TransactionID</th>\n",
       "      <th>itemDescription</th>\n",
       "    </tr>\n",
       "  </thead>\n",
       "  <tbody>\n",
       "    <tr>\n",
       "      <th>0</th>\n",
       "      <td>1000_2014-06-24</td>\n",
       "      <td>pastry,salty snack,whole milk</td>\n",
       "    </tr>\n",
       "    <tr>\n",
       "      <th>1</th>\n",
       "      <td>1000_2015-03-15</td>\n",
       "      <td>sausage,semi-finished bread,whole milk,yogurt</td>\n",
       "    </tr>\n",
       "    <tr>\n",
       "      <th>2</th>\n",
       "      <td>1000_2015-05-27</td>\n",
       "      <td>pickled vegetables,soda</td>\n",
       "    </tr>\n",
       "    <tr>\n",
       "      <th>3</th>\n",
       "      <td>1000_2015-07-24</td>\n",
       "      <td>canned beer,misc. beverages</td>\n",
       "    </tr>\n",
       "    <tr>\n",
       "      <th>4</th>\n",
       "      <td>1000_2015-11-25</td>\n",
       "      <td>hygiene articles,sausage</td>\n",
       "    </tr>\n",
       "  </tbody>\n",
       "</table>\n",
       "</div>"
      ],
      "text/plain": [
       "     TransactionID                                itemDescription\n",
       "0  1000_2014-06-24                  pastry,salty snack,whole milk\n",
       "1  1000_2015-03-15  sausage,semi-finished bread,whole milk,yogurt\n",
       "2  1000_2015-05-27                        pickled vegetables,soda\n",
       "3  1000_2015-07-24                    canned beer,misc. beverages\n",
       "4  1000_2015-11-25                       hygiene articles,sausage"
      ]
     },
     "execution_count": 17,
     "metadata": {},
     "output_type": "execute_result"
    }
   ],
   "source": [
    "#reformatting dataset to have transactions in one row\n",
    "basket_df = (\n",
    "    df.groupby('TransactionID')['itemDescription']\n",
    "      .apply(lambda x: ','.join(sorted(x.unique())))\n",
    "      .reset_index()\n",
    ")\n",
    "basket_df.head()\n"
   ]
  },
  {
   "cell_type": "code",
   "execution_count": 19,
   "id": "9ab47229",
   "metadata": {},
   "outputs": [
    {
     "data": {
      "application/vnd.microsoft.datawrangler.viewer.v0+json": {
       "columns": [
        {
         "name": "index",
         "rawType": "int64",
         "type": "integer"
        },
        {
         "name": "Instant food products",
         "rawType": "int64",
         "type": "integer"
        },
        {
         "name": "UHT-milk",
         "rawType": "int64",
         "type": "integer"
        },
        {
         "name": "abrasive cleaner",
         "rawType": "int64",
         "type": "integer"
        },
        {
         "name": "artif. sweetener",
         "rawType": "int64",
         "type": "integer"
        },
        {
         "name": "baby cosmetics",
         "rawType": "int64",
         "type": "integer"
        },
        {
         "name": "bags",
         "rawType": "int64",
         "type": "integer"
        },
        {
         "name": "baking powder",
         "rawType": "int64",
         "type": "integer"
        },
        {
         "name": "bathroom cleaner",
         "rawType": "int64",
         "type": "integer"
        },
        {
         "name": "beef",
         "rawType": "int64",
         "type": "integer"
        },
        {
         "name": "berries",
         "rawType": "int64",
         "type": "integer"
        },
        {
         "name": "beverages",
         "rawType": "int64",
         "type": "integer"
        },
        {
         "name": "bottled beer",
         "rawType": "int64",
         "type": "integer"
        },
        {
         "name": "bottled water",
         "rawType": "int64",
         "type": "integer"
        },
        {
         "name": "brandy",
         "rawType": "int64",
         "type": "integer"
        },
        {
         "name": "brown bread",
         "rawType": "int64",
         "type": "integer"
        },
        {
         "name": "butter",
         "rawType": "int64",
         "type": "integer"
        },
        {
         "name": "butter milk",
         "rawType": "int64",
         "type": "integer"
        },
        {
         "name": "cake bar",
         "rawType": "int64",
         "type": "integer"
        },
        {
         "name": "candles",
         "rawType": "int64",
         "type": "integer"
        },
        {
         "name": "candy",
         "rawType": "int64",
         "type": "integer"
        },
        {
         "name": "canned beer",
         "rawType": "int64",
         "type": "integer"
        },
        {
         "name": "canned fish",
         "rawType": "int64",
         "type": "integer"
        },
        {
         "name": "canned fruit",
         "rawType": "int64",
         "type": "integer"
        },
        {
         "name": "canned vegetables",
         "rawType": "int64",
         "type": "integer"
        },
        {
         "name": "cat food",
         "rawType": "int64",
         "type": "integer"
        },
        {
         "name": "cereals",
         "rawType": "int64",
         "type": "integer"
        },
        {
         "name": "chewing gum",
         "rawType": "int64",
         "type": "integer"
        },
        {
         "name": "chicken",
         "rawType": "int64",
         "type": "integer"
        },
        {
         "name": "chocolate",
         "rawType": "int64",
         "type": "integer"
        },
        {
         "name": "chocolate marshmallow",
         "rawType": "int64",
         "type": "integer"
        },
        {
         "name": "citrus fruit",
         "rawType": "int64",
         "type": "integer"
        },
        {
         "name": "cleaner",
         "rawType": "int64",
         "type": "integer"
        },
        {
         "name": "cling film/bags",
         "rawType": "int64",
         "type": "integer"
        },
        {
         "name": "cocoa drinks",
         "rawType": "int64",
         "type": "integer"
        },
        {
         "name": "coffee",
         "rawType": "int64",
         "type": "integer"
        },
        {
         "name": "condensed milk",
         "rawType": "int64",
         "type": "integer"
        },
        {
         "name": "cooking chocolate",
         "rawType": "int64",
         "type": "integer"
        },
        {
         "name": "cookware",
         "rawType": "int64",
         "type": "integer"
        },
        {
         "name": "cream",
         "rawType": "int64",
         "type": "integer"
        },
        {
         "name": "cream cheese ",
         "rawType": "int64",
         "type": "integer"
        },
        {
         "name": "curd",
         "rawType": "int64",
         "type": "integer"
        },
        {
         "name": "curd cheese",
         "rawType": "int64",
         "type": "integer"
        },
        {
         "name": "decalcifier",
         "rawType": "int64",
         "type": "integer"
        },
        {
         "name": "dental care",
         "rawType": "int64",
         "type": "integer"
        },
        {
         "name": "dessert",
         "rawType": "int64",
         "type": "integer"
        },
        {
         "name": "detergent",
         "rawType": "int64",
         "type": "integer"
        },
        {
         "name": "dish cleaner",
         "rawType": "int64",
         "type": "integer"
        },
        {
         "name": "dishes",
         "rawType": "int64",
         "type": "integer"
        },
        {
         "name": "dog food",
         "rawType": "int64",
         "type": "integer"
        },
        {
         "name": "domestic eggs",
         "rawType": "int64",
         "type": "integer"
        },
        {
         "name": "female sanitary products",
         "rawType": "int64",
         "type": "integer"
        },
        {
         "name": "finished products",
         "rawType": "int64",
         "type": "integer"
        },
        {
         "name": "fish",
         "rawType": "int64",
         "type": "integer"
        },
        {
         "name": "flour",
         "rawType": "int64",
         "type": "integer"
        },
        {
         "name": "flower (seeds)",
         "rawType": "int64",
         "type": "integer"
        },
        {
         "name": "flower soil/fertilizer",
         "rawType": "int64",
         "type": "integer"
        },
        {
         "name": "frankfurter",
         "rawType": "int64",
         "type": "integer"
        },
        {
         "name": "frozen chicken",
         "rawType": "int64",
         "type": "integer"
        },
        {
         "name": "frozen dessert",
         "rawType": "int64",
         "type": "integer"
        },
        {
         "name": "frozen fish",
         "rawType": "int64",
         "type": "integer"
        },
        {
         "name": "frozen fruits",
         "rawType": "int64",
         "type": "integer"
        },
        {
         "name": "frozen meals",
         "rawType": "int64",
         "type": "integer"
        },
        {
         "name": "frozen potato products",
         "rawType": "int64",
         "type": "integer"
        },
        {
         "name": "frozen vegetables",
         "rawType": "int64",
         "type": "integer"
        },
        {
         "name": "fruit/vegetable juice",
         "rawType": "int64",
         "type": "integer"
        },
        {
         "name": "grapes",
         "rawType": "int64",
         "type": "integer"
        },
        {
         "name": "hair spray",
         "rawType": "int64",
         "type": "integer"
        },
        {
         "name": "ham",
         "rawType": "int64",
         "type": "integer"
        },
        {
         "name": "hamburger meat",
         "rawType": "int64",
         "type": "integer"
        },
        {
         "name": "hard cheese",
         "rawType": "int64",
         "type": "integer"
        },
        {
         "name": "herbs",
         "rawType": "int64",
         "type": "integer"
        },
        {
         "name": "honey",
         "rawType": "int64",
         "type": "integer"
        },
        {
         "name": "house keeping products",
         "rawType": "int64",
         "type": "integer"
        },
        {
         "name": "hygiene articles",
         "rawType": "int64",
         "type": "integer"
        },
        {
         "name": "ice cream",
         "rawType": "int64",
         "type": "integer"
        },
        {
         "name": "instant coffee",
         "rawType": "int64",
         "type": "integer"
        },
        {
         "name": "jam",
         "rawType": "int64",
         "type": "integer"
        },
        {
         "name": "ketchup",
         "rawType": "int64",
         "type": "integer"
        },
        {
         "name": "kitchen towels",
         "rawType": "int64",
         "type": "integer"
        },
        {
         "name": "kitchen utensil",
         "rawType": "int64",
         "type": "integer"
        },
        {
         "name": "light bulbs",
         "rawType": "int64",
         "type": "integer"
        },
        {
         "name": "liqueur",
         "rawType": "int64",
         "type": "integer"
        },
        {
         "name": "liquor",
         "rawType": "int64",
         "type": "integer"
        },
        {
         "name": "liquor (appetizer)",
         "rawType": "int64",
         "type": "integer"
        },
        {
         "name": "liver loaf",
         "rawType": "int64",
         "type": "integer"
        },
        {
         "name": "long life bakery product",
         "rawType": "int64",
         "type": "integer"
        },
        {
         "name": "make up remover",
         "rawType": "int64",
         "type": "integer"
        },
        {
         "name": "male cosmetics",
         "rawType": "int64",
         "type": "integer"
        },
        {
         "name": "margarine",
         "rawType": "int64",
         "type": "integer"
        },
        {
         "name": "mayonnaise",
         "rawType": "int64",
         "type": "integer"
        },
        {
         "name": "meat",
         "rawType": "int64",
         "type": "integer"
        },
        {
         "name": "meat spreads",
         "rawType": "int64",
         "type": "integer"
        },
        {
         "name": "misc. beverages",
         "rawType": "int64",
         "type": "integer"
        },
        {
         "name": "mustard",
         "rawType": "int64",
         "type": "integer"
        },
        {
         "name": "napkins",
         "rawType": "int64",
         "type": "integer"
        },
        {
         "name": "newspapers",
         "rawType": "int64",
         "type": "integer"
        },
        {
         "name": "nut snack",
         "rawType": "int64",
         "type": "integer"
        },
        {
         "name": "nuts/prunes",
         "rawType": "int64",
         "type": "integer"
        },
        {
         "name": "oil",
         "rawType": "int64",
         "type": "integer"
        },
        {
         "name": "onions",
         "rawType": "int64",
         "type": "integer"
        },
        {
         "name": "organic products",
         "rawType": "int64",
         "type": "integer"
        },
        {
         "name": "organic sausage",
         "rawType": "int64",
         "type": "integer"
        },
        {
         "name": "other vegetables",
         "rawType": "int64",
         "type": "integer"
        },
        {
         "name": "packaged fruit/vegetables",
         "rawType": "int64",
         "type": "integer"
        },
        {
         "name": "pasta",
         "rawType": "int64",
         "type": "integer"
        },
        {
         "name": "pastry",
         "rawType": "int64",
         "type": "integer"
        },
        {
         "name": "pet care",
         "rawType": "int64",
         "type": "integer"
        },
        {
         "name": "photo/film",
         "rawType": "int64",
         "type": "integer"
        },
        {
         "name": "pickled vegetables",
         "rawType": "int64",
         "type": "integer"
        },
        {
         "name": "pip fruit",
         "rawType": "int64",
         "type": "integer"
        },
        {
         "name": "popcorn",
         "rawType": "int64",
         "type": "integer"
        },
        {
         "name": "pork",
         "rawType": "int64",
         "type": "integer"
        },
        {
         "name": "pot plants",
         "rawType": "int64",
         "type": "integer"
        },
        {
         "name": "potato products",
         "rawType": "int64",
         "type": "integer"
        },
        {
         "name": "preservation products",
         "rawType": "int64",
         "type": "integer"
        },
        {
         "name": "processed cheese",
         "rawType": "int64",
         "type": "integer"
        },
        {
         "name": "prosecco",
         "rawType": "int64",
         "type": "integer"
        },
        {
         "name": "pudding powder",
         "rawType": "int64",
         "type": "integer"
        },
        {
         "name": "ready soups",
         "rawType": "int64",
         "type": "integer"
        },
        {
         "name": "red/blush wine",
         "rawType": "int64",
         "type": "integer"
        },
        {
         "name": "rice",
         "rawType": "int64",
         "type": "integer"
        },
        {
         "name": "roll products ",
         "rawType": "int64",
         "type": "integer"
        },
        {
         "name": "rolls/buns",
         "rawType": "int64",
         "type": "integer"
        },
        {
         "name": "root vegetables",
         "rawType": "int64",
         "type": "integer"
        },
        {
         "name": "rubbing alcohol",
         "rawType": "int64",
         "type": "integer"
        },
        {
         "name": "rum",
         "rawType": "int64",
         "type": "integer"
        },
        {
         "name": "salad dressing",
         "rawType": "int64",
         "type": "integer"
        },
        {
         "name": "salt",
         "rawType": "int64",
         "type": "integer"
        },
        {
         "name": "salty snack",
         "rawType": "int64",
         "type": "integer"
        },
        {
         "name": "sauces",
         "rawType": "int64",
         "type": "integer"
        },
        {
         "name": "sausage",
         "rawType": "int64",
         "type": "integer"
        },
        {
         "name": "seasonal products",
         "rawType": "int64",
         "type": "integer"
        },
        {
         "name": "semi-finished bread",
         "rawType": "int64",
         "type": "integer"
        },
        {
         "name": "shopping bags",
         "rawType": "int64",
         "type": "integer"
        },
        {
         "name": "skin care",
         "rawType": "int64",
         "type": "integer"
        },
        {
         "name": "sliced cheese",
         "rawType": "int64",
         "type": "integer"
        },
        {
         "name": "snack products",
         "rawType": "int64",
         "type": "integer"
        },
        {
         "name": "soap",
         "rawType": "int64",
         "type": "integer"
        },
        {
         "name": "soda",
         "rawType": "int64",
         "type": "integer"
        },
        {
         "name": "soft cheese",
         "rawType": "int64",
         "type": "integer"
        },
        {
         "name": "softener",
         "rawType": "int64",
         "type": "integer"
        },
        {
         "name": "soups",
         "rawType": "int64",
         "type": "integer"
        },
        {
         "name": "sparkling wine",
         "rawType": "int64",
         "type": "integer"
        },
        {
         "name": "specialty bar",
         "rawType": "int64",
         "type": "integer"
        },
        {
         "name": "specialty cheese",
         "rawType": "int64",
         "type": "integer"
        },
        {
         "name": "specialty chocolate",
         "rawType": "int64",
         "type": "integer"
        },
        {
         "name": "specialty fat",
         "rawType": "int64",
         "type": "integer"
        },
        {
         "name": "specialty vegetables",
         "rawType": "int64",
         "type": "integer"
        },
        {
         "name": "spices",
         "rawType": "int64",
         "type": "integer"
        },
        {
         "name": "spread cheese",
         "rawType": "int64",
         "type": "integer"
        },
        {
         "name": "sugar",
         "rawType": "int64",
         "type": "integer"
        },
        {
         "name": "sweet spreads",
         "rawType": "int64",
         "type": "integer"
        },
        {
         "name": "syrup",
         "rawType": "int64",
         "type": "integer"
        },
        {
         "name": "tea",
         "rawType": "int64",
         "type": "integer"
        },
        {
         "name": "tidbits",
         "rawType": "int64",
         "type": "integer"
        },
        {
         "name": "toilet cleaner",
         "rawType": "int64",
         "type": "integer"
        },
        {
         "name": "tropical fruit",
         "rawType": "int64",
         "type": "integer"
        },
        {
         "name": "turkey",
         "rawType": "int64",
         "type": "integer"
        },
        {
         "name": "vinegar",
         "rawType": "int64",
         "type": "integer"
        },
        {
         "name": "waffles",
         "rawType": "int64",
         "type": "integer"
        },
        {
         "name": "whipped/sour cream",
         "rawType": "int64",
         "type": "integer"
        },
        {
         "name": "whisky",
         "rawType": "int64",
         "type": "integer"
        },
        {
         "name": "white bread",
         "rawType": "int64",
         "type": "integer"
        },
        {
         "name": "white wine",
         "rawType": "int64",
         "type": "integer"
        },
        {
         "name": "whole milk",
         "rawType": "int64",
         "type": "integer"
        },
        {
         "name": "yogurt",
         "rawType": "int64",
         "type": "integer"
        },
        {
         "name": "zwieback",
         "rawType": "int64",
         "type": "integer"
        }
       ],
       "ref": "59754230-bc88-486a-b407-c9060898a214",
       "rows": [
        [
         "0",
         "0",
         "0",
         "0",
         "0",
         "0",
         "0",
         "0",
         "0",
         "0",
         "0",
         "0",
         "0",
         "0",
         "0",
         "0",
         "0",
         "0",
         "0",
         "0",
         "0",
         "0",
         "0",
         "0",
         "0",
         "0",
         "0",
         "0",
         "0",
         "0",
         "0",
         "0",
         "0",
         "0",
         "0",
         "0",
         "0",
         "0",
         "0",
         "0",
         "0",
         "0",
         "0",
         "0",
         "0",
         "0",
         "0",
         "0",
         "0",
         "0",
         "0",
         "0",
         "0",
         "0",
         "0",
         "0",
         "0",
         "0",
         "0",
         "0",
         "0",
         "0",
         "0",
         "0",
         "0",
         "0",
         "0",
         "0",
         "0",
         "0",
         "0",
         "0",
         "0",
         "0",
         "0",
         "0",
         "0",
         "0",
         "0",
         "0",
         "0",
         "0",
         "0",
         "0",
         "0",
         "0",
         "0",
         "0",
         "0",
         "0",
         "0",
         "0",
         "0",
         "0",
         "0",
         "0",
         "0",
         "0",
         "0",
         "0",
         "0",
         "0",
         "0",
         "0",
         "0",
         "0",
         "1",
         "0",
         "0",
         "0",
         "0",
         "0",
         "0",
         "0",
         "0",
         "0",
         "0",
         "0",
         "0",
         "0",
         "0",
         "0",
         "0",
         "0",
         "0",
         "0",
         "0",
         "0",
         "0",
         "1",
         "0",
         "0",
         "0",
         "0",
         "0",
         "0",
         "0",
         "0",
         "0",
         "0",
         "0",
         "0",
         "0",
         "0",
         "0",
         "0",
         "0",
         "0",
         "0",
         "0",
         "0",
         "0",
         "0",
         "0",
         "0",
         "0",
         "0",
         "0",
         "0",
         "0",
         "0",
         "0",
         "0",
         "0",
         "0",
         "1",
         "0",
         "0"
        ],
        [
         "1",
         "0",
         "0",
         "0",
         "0",
         "0",
         "0",
         "0",
         "0",
         "0",
         "0",
         "0",
         "0",
         "0",
         "0",
         "0",
         "0",
         "0",
         "0",
         "0",
         "0",
         "0",
         "0",
         "0",
         "0",
         "0",
         "0",
         "0",
         "0",
         "0",
         "0",
         "0",
         "0",
         "0",
         "0",
         "0",
         "0",
         "0",
         "0",
         "0",
         "0",
         "0",
         "0",
         "0",
         "0",
         "0",
         "0",
         "0",
         "0",
         "0",
         "0",
         "0",
         "0",
         "0",
         "0",
         "0",
         "0",
         "0",
         "0",
         "0",
         "0",
         "0",
         "0",
         "0",
         "0",
         "0",
         "0",
         "0",
         "0",
         "0",
         "0",
         "0",
         "0",
         "0",
         "0",
         "0",
         "0",
         "0",
         "0",
         "0",
         "0",
         "0",
         "0",
         "0",
         "0",
         "0",
         "0",
         "0",
         "0",
         "0",
         "0",
         "0",
         "0",
         "0",
         "0",
         "0",
         "0",
         "0",
         "0",
         "0",
         "0",
         "0",
         "0",
         "0",
         "0",
         "0",
         "0",
         "0",
         "0",
         "0",
         "0",
         "0",
         "0",
         "0",
         "0",
         "0",
         "0",
         "0",
         "0",
         "0",
         "0",
         "0",
         "0",
         "0",
         "0",
         "0",
         "0",
         "0",
         "0",
         "0",
         "0",
         "1",
         "0",
         "1",
         "0",
         "0",
         "0",
         "0",
         "0",
         "0",
         "0",
         "0",
         "0",
         "0",
         "0",
         "0",
         "0",
         "0",
         "0",
         "0",
         "0",
         "0",
         "0",
         "0",
         "0",
         "0",
         "0",
         "0",
         "0",
         "0",
         "0",
         "0",
         "0",
         "0",
         "0",
         "1",
         "1",
         "0"
        ],
        [
         "2",
         "0",
         "0",
         "0",
         "0",
         "0",
         "0",
         "0",
         "0",
         "0",
         "0",
         "0",
         "0",
         "0",
         "0",
         "0",
         "0",
         "0",
         "0",
         "0",
         "0",
         "0",
         "0",
         "0",
         "0",
         "0",
         "0",
         "0",
         "0",
         "0",
         "0",
         "0",
         "0",
         "0",
         "0",
         "0",
         "0",
         "0",
         "0",
         "0",
         "0",
         "0",
         "0",
         "0",
         "0",
         "0",
         "0",
         "0",
         "0",
         "0",
         "0",
         "0",
         "0",
         "0",
         "0",
         "0",
         "0",
         "0",
         "0",
         "0",
         "0",
         "0",
         "0",
         "0",
         "0",
         "0",
         "0",
         "0",
         "0",
         "0",
         "0",
         "0",
         "0",
         "0",
         "0",
         "0",
         "0",
         "0",
         "0",
         "0",
         "0",
         "0",
         "0",
         "0",
         "0",
         "0",
         "0",
         "0",
         "0",
         "0",
         "0",
         "0",
         "0",
         "0",
         "0",
         "0",
         "0",
         "0",
         "0",
         "0",
         "0",
         "0",
         "0",
         "0",
         "0",
         "0",
         "0",
         "0",
         "0",
         "1",
         "0",
         "0",
         "0",
         "0",
         "0",
         "0",
         "0",
         "0",
         "0",
         "0",
         "0",
         "0",
         "0",
         "0",
         "0",
         "0",
         "0",
         "0",
         "0",
         "0",
         "0",
         "0",
         "0",
         "0",
         "0",
         "0",
         "0",
         "0",
         "0",
         "1",
         "0",
         "0",
         "0",
         "0",
         "0",
         "0",
         "0",
         "0",
         "0",
         "0",
         "0",
         "0",
         "0",
         "0",
         "0",
         "0",
         "0",
         "0",
         "0",
         "0",
         "0",
         "0",
         "0",
         "0",
         "0",
         "0",
         "0",
         "0"
        ],
        [
         "3",
         "0",
         "0",
         "0",
         "0",
         "0",
         "0",
         "0",
         "0",
         "0",
         "0",
         "0",
         "0",
         "0",
         "0",
         "0",
         "0",
         "0",
         "0",
         "0",
         "0",
         "1",
         "0",
         "0",
         "0",
         "0",
         "0",
         "0",
         "0",
         "0",
         "0",
         "0",
         "0",
         "0",
         "0",
         "0",
         "0",
         "0",
         "0",
         "0",
         "0",
         "0",
         "0",
         "0",
         "0",
         "0",
         "0",
         "0",
         "0",
         "0",
         "0",
         "0",
         "0",
         "0",
         "0",
         "0",
         "0",
         "0",
         "0",
         "0",
         "0",
         "0",
         "0",
         "0",
         "0",
         "0",
         "0",
         "0",
         "0",
         "0",
         "0",
         "0",
         "0",
         "0",
         "0",
         "0",
         "0",
         "0",
         "0",
         "0",
         "0",
         "0",
         "0",
         "0",
         "0",
         "0",
         "0",
         "0",
         "0",
         "0",
         "0",
         "0",
         "0",
         "1",
         "0",
         "0",
         "0",
         "0",
         "0",
         "0",
         "0",
         "0",
         "0",
         "0",
         "0",
         "0",
         "0",
         "0",
         "0",
         "0",
         "0",
         "0",
         "0",
         "0",
         "0",
         "0",
         "0",
         "0",
         "0",
         "0",
         "0",
         "0",
         "0",
         "0",
         "0",
         "0",
         "0",
         "0",
         "0",
         "0",
         "0",
         "0",
         "0",
         "0",
         "0",
         "0",
         "0",
         "0",
         "0",
         "0",
         "0",
         "0",
         "0",
         "0",
         "0",
         "0",
         "0",
         "0",
         "0",
         "0",
         "0",
         "0",
         "0",
         "0",
         "0",
         "0",
         "0",
         "0",
         "0",
         "0",
         "0",
         "0",
         "0",
         "0",
         "0",
         "0",
         "0",
         "0"
        ],
        [
         "4",
         "0",
         "0",
         "0",
         "0",
         "0",
         "0",
         "0",
         "0",
         "0",
         "0",
         "0",
         "0",
         "0",
         "0",
         "0",
         "0",
         "0",
         "0",
         "0",
         "0",
         "0",
         "0",
         "0",
         "0",
         "0",
         "0",
         "0",
         "0",
         "0",
         "0",
         "0",
         "0",
         "0",
         "0",
         "0",
         "0",
         "0",
         "0",
         "0",
         "0",
         "0",
         "0",
         "0",
         "0",
         "0",
         "0",
         "0",
         "0",
         "0",
         "0",
         "0",
         "0",
         "0",
         "0",
         "0",
         "0",
         "0",
         "0",
         "0",
         "0",
         "0",
         "0",
         "0",
         "0",
         "0",
         "0",
         "0",
         "0",
         "0",
         "0",
         "0",
         "0",
         "0",
         "1",
         "0",
         "0",
         "0",
         "0",
         "0",
         "0",
         "0",
         "0",
         "0",
         "0",
         "0",
         "0",
         "0",
         "0",
         "0",
         "0",
         "0",
         "0",
         "0",
         "0",
         "0",
         "0",
         "0",
         "0",
         "0",
         "0",
         "0",
         "0",
         "0",
         "0",
         "0",
         "0",
         "0",
         "0",
         "0",
         "0",
         "0",
         "0",
         "0",
         "0",
         "0",
         "0",
         "0",
         "0",
         "0",
         "0",
         "0",
         "0",
         "0",
         "0",
         "0",
         "0",
         "0",
         "0",
         "0",
         "0",
         "1",
         "0",
         "0",
         "0",
         "0",
         "0",
         "0",
         "0",
         "0",
         "0",
         "0",
         "0",
         "0",
         "0",
         "0",
         "0",
         "0",
         "0",
         "0",
         "0",
         "0",
         "0",
         "0",
         "0",
         "0",
         "0",
         "0",
         "0",
         "0",
         "0",
         "0",
         "0",
         "0",
         "0",
         "0",
         "0",
         "0"
        ]
       ],
       "shape": {
        "columns": 167,
        "rows": 5
       }
      },
      "text/html": [
       "<div>\n",
       "<style scoped>\n",
       "    .dataframe tbody tr th:only-of-type {\n",
       "        vertical-align: middle;\n",
       "    }\n",
       "\n",
       "    .dataframe tbody tr th {\n",
       "        vertical-align: top;\n",
       "    }\n",
       "\n",
       "    .dataframe thead th {\n",
       "        text-align: right;\n",
       "    }\n",
       "</style>\n",
       "<table border=\"1\" class=\"dataframe\">\n",
       "  <thead>\n",
       "    <tr style=\"text-align: right;\">\n",
       "      <th></th>\n",
       "      <th>Instant food products</th>\n",
       "      <th>UHT-milk</th>\n",
       "      <th>abrasive cleaner</th>\n",
       "      <th>artif. sweetener</th>\n",
       "      <th>baby cosmetics</th>\n",
       "      <th>bags</th>\n",
       "      <th>baking powder</th>\n",
       "      <th>bathroom cleaner</th>\n",
       "      <th>beef</th>\n",
       "      <th>berries</th>\n",
       "      <th>...</th>\n",
       "      <th>turkey</th>\n",
       "      <th>vinegar</th>\n",
       "      <th>waffles</th>\n",
       "      <th>whipped/sour cream</th>\n",
       "      <th>whisky</th>\n",
       "      <th>white bread</th>\n",
       "      <th>white wine</th>\n",
       "      <th>whole milk</th>\n",
       "      <th>yogurt</th>\n",
       "      <th>zwieback</th>\n",
       "    </tr>\n",
       "  </thead>\n",
       "  <tbody>\n",
       "    <tr>\n",
       "      <th>0</th>\n",
       "      <td>0</td>\n",
       "      <td>0</td>\n",
       "      <td>0</td>\n",
       "      <td>0</td>\n",
       "      <td>0</td>\n",
       "      <td>0</td>\n",
       "      <td>0</td>\n",
       "      <td>0</td>\n",
       "      <td>0</td>\n",
       "      <td>0</td>\n",
       "      <td>...</td>\n",
       "      <td>0</td>\n",
       "      <td>0</td>\n",
       "      <td>0</td>\n",
       "      <td>0</td>\n",
       "      <td>0</td>\n",
       "      <td>0</td>\n",
       "      <td>0</td>\n",
       "      <td>1</td>\n",
       "      <td>0</td>\n",
       "      <td>0</td>\n",
       "    </tr>\n",
       "    <tr>\n",
       "      <th>1</th>\n",
       "      <td>0</td>\n",
       "      <td>0</td>\n",
       "      <td>0</td>\n",
       "      <td>0</td>\n",
       "      <td>0</td>\n",
       "      <td>0</td>\n",
       "      <td>0</td>\n",
       "      <td>0</td>\n",
       "      <td>0</td>\n",
       "      <td>0</td>\n",
       "      <td>...</td>\n",
       "      <td>0</td>\n",
       "      <td>0</td>\n",
       "      <td>0</td>\n",
       "      <td>0</td>\n",
       "      <td>0</td>\n",
       "      <td>0</td>\n",
       "      <td>0</td>\n",
       "      <td>1</td>\n",
       "      <td>1</td>\n",
       "      <td>0</td>\n",
       "    </tr>\n",
       "    <tr>\n",
       "      <th>2</th>\n",
       "      <td>0</td>\n",
       "      <td>0</td>\n",
       "      <td>0</td>\n",
       "      <td>0</td>\n",
       "      <td>0</td>\n",
       "      <td>0</td>\n",
       "      <td>0</td>\n",
       "      <td>0</td>\n",
       "      <td>0</td>\n",
       "      <td>0</td>\n",
       "      <td>...</td>\n",
       "      <td>0</td>\n",
       "      <td>0</td>\n",
       "      <td>0</td>\n",
       "      <td>0</td>\n",
       "      <td>0</td>\n",
       "      <td>0</td>\n",
       "      <td>0</td>\n",
       "      <td>0</td>\n",
       "      <td>0</td>\n",
       "      <td>0</td>\n",
       "    </tr>\n",
       "    <tr>\n",
       "      <th>3</th>\n",
       "      <td>0</td>\n",
       "      <td>0</td>\n",
       "      <td>0</td>\n",
       "      <td>0</td>\n",
       "      <td>0</td>\n",
       "      <td>0</td>\n",
       "      <td>0</td>\n",
       "      <td>0</td>\n",
       "      <td>0</td>\n",
       "      <td>0</td>\n",
       "      <td>...</td>\n",
       "      <td>0</td>\n",
       "      <td>0</td>\n",
       "      <td>0</td>\n",
       "      <td>0</td>\n",
       "      <td>0</td>\n",
       "      <td>0</td>\n",
       "      <td>0</td>\n",
       "      <td>0</td>\n",
       "      <td>0</td>\n",
       "      <td>0</td>\n",
       "    </tr>\n",
       "    <tr>\n",
       "      <th>4</th>\n",
       "      <td>0</td>\n",
       "      <td>0</td>\n",
       "      <td>0</td>\n",
       "      <td>0</td>\n",
       "      <td>0</td>\n",
       "      <td>0</td>\n",
       "      <td>0</td>\n",
       "      <td>0</td>\n",
       "      <td>0</td>\n",
       "      <td>0</td>\n",
       "      <td>...</td>\n",
       "      <td>0</td>\n",
       "      <td>0</td>\n",
       "      <td>0</td>\n",
       "      <td>0</td>\n",
       "      <td>0</td>\n",
       "      <td>0</td>\n",
       "      <td>0</td>\n",
       "      <td>0</td>\n",
       "      <td>0</td>\n",
       "      <td>0</td>\n",
       "    </tr>\n",
       "  </tbody>\n",
       "</table>\n",
       "<p>5 rows × 167 columns</p>\n",
       "</div>"
      ],
      "text/plain": [
       "   Instant food products  UHT-milk  abrasive cleaner  artif. sweetener  \\\n",
       "0                      0         0                 0                 0   \n",
       "1                      0         0                 0                 0   \n",
       "2                      0         0                 0                 0   \n",
       "3                      0         0                 0                 0   \n",
       "4                      0         0                 0                 0   \n",
       "\n",
       "   baby cosmetics  bags  baking powder  bathroom cleaner  beef  berries  ...  \\\n",
       "0               0     0              0                 0     0        0  ...   \n",
       "1               0     0              0                 0     0        0  ...   \n",
       "2               0     0              0                 0     0        0  ...   \n",
       "3               0     0              0                 0     0        0  ...   \n",
       "4               0     0              0                 0     0        0  ...   \n",
       "\n",
       "   turkey  vinegar  waffles  whipped/sour cream  whisky  white bread  \\\n",
       "0       0        0        0                   0       0            0   \n",
       "1       0        0        0                   0       0            0   \n",
       "2       0        0        0                   0       0            0   \n",
       "3       0        0        0                   0       0            0   \n",
       "4       0        0        0                   0       0            0   \n",
       "\n",
       "   white wine  whole milk  yogurt  zwieback  \n",
       "0           0           1       0         0  \n",
       "1           0           1       1         0  \n",
       "2           0           0       0         0  \n",
       "3           0           0       0         0  \n",
       "4           0           0       0         0  \n",
       "\n",
       "[5 rows x 167 columns]"
      ]
     },
     "execution_count": 19,
     "metadata": {},
     "output_type": "execute_result"
    }
   ],
   "source": [
    "#one-hot encoding the dataset\n",
    "basket_hot = (\n",
    "    basket_df['itemDescription'].str.get_dummies(',')\n",
    ")\n",
    "basket_hot.head()\n"
   ]
  },
  {
   "cell_type": "code",
   "execution_count": 22,
   "id": "d942c9fa",
   "metadata": {},
   "outputs": [],
   "source": [
    "#saving preprocessed dataset to csv\n",
    "basket_df.to_csv('preprocessed_transactions.csv', index=False)\n",
    "#saving one-hot encoded dataset to csv\n",
    "basket_hot.to_csv('onehot_transactions.csv', index=False)"
   ]
  },
  {
   "cell_type": "markdown",
   "id": "05a58eac",
   "metadata": {},
   "source": [
    "Now we have preprocessed the data into one-hot encoded dataset, which is suitable for association mining. "
   ]
  },
  {
   "cell_type": "code",
   "execution_count": null,
   "id": "7fd8edc6",
   "metadata": {},
   "outputs": [],
   "source": []
  },
  {
   "cell_type": "code",
   "execution_count": null,
   "id": "f7ef51fb",
   "metadata": {},
   "outputs": [],
   "source": []
  },
  {
   "cell_type": "code",
   "execution_count": null,
   "id": "162e917b",
   "metadata": {},
   "outputs": [],
   "source": []
  },
  {
   "cell_type": "code",
   "execution_count": null,
   "id": "f3db2418",
   "metadata": {},
   "outputs": [],
   "source": []
  },
  {
   "cell_type": "code",
   "execution_count": null,
   "id": "d54f5eb3",
   "metadata": {},
   "outputs": [],
   "source": []
  },
  {
   "cell_type": "code",
   "execution_count": null,
   "id": "fcb4c3ea",
   "metadata": {},
   "outputs": [],
   "source": []
  },
  {
   "cell_type": "code",
   "execution_count": null,
   "id": "4f22c88f",
   "metadata": {},
   "outputs": [],
   "source": []
  },
  {
   "cell_type": "code",
   "execution_count": null,
   "id": "074bb6b7",
   "metadata": {},
   "outputs": [],
   "source": []
  },
  {
   "cell_type": "code",
   "execution_count": null,
   "id": "d39668d9",
   "metadata": {},
   "outputs": [],
   "source": []
  },
  {
   "cell_type": "code",
   "execution_count": null,
   "id": "b36edda5",
   "metadata": {},
   "outputs": [],
   "source": []
  },
  {
   "cell_type": "code",
   "execution_count": null,
   "metadata": {},
   "outputs": [],
   "source": []
  },
  {
   "cell_type": "code",
   "execution_count": null,
   "id": "21503d96",
   "metadata": {},
   "outputs": [],
   "source": []
  }
 ],
 "metadata": {
  "kernelspec": {
   "display_name": "Python 3",
   "language": "python",
   "name": "python3"
  },
  "language_info": {
   "codemirror_mode": {
    "name": "ipython",
    "version": 3
   },
   "file_extension": ".py",
   "mimetype": "text/x-python",
   "name": "python",
   "nbconvert_exporter": "python",
   "pygments_lexer": "ipython3",
   "version": "3.11.9"
  }
 },
 "nbformat": 4,
 "nbformat_minor": 5
}
