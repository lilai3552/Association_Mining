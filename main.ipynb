{
 "cells": [
  {
   "cell_type": "markdown",
   "id": "a77eff40",
   "metadata": {},
   "source": [
    "### Association Rules"
   ]
  },
  {
   "cell_type": "code",
   "execution_count": 1,
   "id": "49ab3d5e",
   "metadata": {},
   "outputs": [
    {
     "name": "stdout",
     "output_type": "stream",
     "text": [
      "Collecting apyori\n",
      "  Downloading apyori-1.1.2.tar.gz (8.6 kB)\n",
      "  Installing build dependencies: started\n",
      "  Installing build dependencies: finished with status 'done'\n",
      "  Getting requirements to build wheel: started\n",
      "  Getting requirements to build wheel: finished with status 'done'\n",
      "  Preparing metadata (pyproject.toml): started\n",
      "  Preparing metadata (pyproject.toml): finished with status 'done'\n",
      "Building wheels for collected packages: apyori\n",
      "  Building wheel for apyori (pyproject.toml): started\n",
      "  Building wheel for apyori (pyproject.toml): finished with status 'done'\n",
      "  Created wheel for apyori: filename=apyori-1.1.2-py3-none-any.whl size=6015 sha256=512f5ec698d3523b26db7fa67ea5d87b0d103579f9af15cfe932dbd06c2ae89e\n",
      "  Stored in directory: a:\\wpsystem\\s-1-5-21-910491398-3542826876-2768250131-1001\\appdata\\local\\packages\\pythonsoftwarefoundation.python.3.11_qbz5n2kfra8p0\\localcache\\local\\pip\\cache\\wheels\\77\\3d\\a6\\d317a6fb32be58a602b1e8c6b5d6f31f79322da554cad2a5ea\n",
      "Successfully built apyori\n",
      "Installing collected packages: apyori\n",
      "Successfully installed apyori-1.1.2\n"
     ]
    }
   ],
   "source": [
    "!pip install apyori"
   ]
  },
  {
   "cell_type": "code",
   "execution_count": 7,
   "id": "71d4c023",
   "metadata": {},
   "outputs": [
    {
     "name": "stdout",
     "output_type": "stream",
     "text": [
      "<class 'pandas.core.frame.DataFrame'>\n",
      "RangeIndex: 38765 entries, 0 to 38764\n",
      "Data columns (total 3 columns):\n",
      " #   Column           Non-Null Count  Dtype \n",
      "---  ------           --------------  ----- \n",
      " 0   Member_number    38765 non-null  int64 \n",
      " 1   Date             38765 non-null  object\n",
      " 2   itemDescription  38765 non-null  object\n",
      "dtypes: int64(1), object(2)\n",
      "memory usage: 908.7+ KB\n"
     ]
    }
   ],
   "source": [
    "import pandas as pd\n",
    "from apyori import apriori\n",
    "import numpy as np\n",
    "# Load dataset\n",
    "df = pd.read_csv('Groceries_dataset.csv', header=0)\n",
    "\n",
    "df.info()"
   ]
  },
  {
   "cell_type": "code",
   "execution_count": null,
   "id": "dff7e4d2",
   "metadata": {},
   "outputs": [
    {
     "data": {
      "application/vnd.microsoft.datawrangler.viewer.v0+json": {
       "columns": [
        {
         "name": "index",
         "rawType": "int64",
         "type": "integer"
        },
        {
         "name": "Member_number",
         "rawType": "int64",
         "type": "integer"
        },
        {
         "name": "Date",
         "rawType": "object",
         "type": "string"
        },
        {
         "name": "itemDescription",
         "rawType": "object",
         "type": "string"
        }
       ],
       "ref": "46b5271e-c434-4d9b-b846-e9da535f957b",
       "rows": [
        [
         "0",
         "1808",
         "21-07-2015",
         "tropical fruit"
        ],
        [
         "1",
         "2552",
         "05-01-2015",
         "whole milk"
        ],
        [
         "2",
         "2300",
         "19-09-2015",
         "pip fruit"
        ],
        [
         "3",
         "1187",
         "12-12-2015",
         "other vegetables"
        ],
        [
         "4",
         "3037",
         "01-02-2015",
         "whole milk"
        ]
       ],
       "shape": {
        "columns": 3,
        "rows": 5
       }
      },
      "text/html": [
       "<div>\n",
       "<style scoped>\n",
       "    .dataframe tbody tr th:only-of-type {\n",
       "        vertical-align: middle;\n",
       "    }\n",
       "\n",
       "    .dataframe tbody tr th {\n",
       "        vertical-align: top;\n",
       "    }\n",
       "\n",
       "    .dataframe thead th {\n",
       "        text-align: right;\n",
       "    }\n",
       "</style>\n",
       "<table border=\"1\" class=\"dataframe\">\n",
       "  <thead>\n",
       "    <tr style=\"text-align: right;\">\n",
       "      <th></th>\n",
       "      <th>Member_number</th>\n",
       "      <th>Date</th>\n",
       "      <th>itemDescription</th>\n",
       "    </tr>\n",
       "  </thead>\n",
       "  <tbody>\n",
       "    <tr>\n",
       "      <th>0</th>\n",
       "      <td>1808</td>\n",
       "      <td>21-07-2015</td>\n",
       "      <td>tropical fruit</td>\n",
       "    </tr>\n",
       "    <tr>\n",
       "      <th>1</th>\n",
       "      <td>2552</td>\n",
       "      <td>05-01-2015</td>\n",
       "      <td>whole milk</td>\n",
       "    </tr>\n",
       "    <tr>\n",
       "      <th>2</th>\n",
       "      <td>2300</td>\n",
       "      <td>19-09-2015</td>\n",
       "      <td>pip fruit</td>\n",
       "    </tr>\n",
       "    <tr>\n",
       "      <th>3</th>\n",
       "      <td>1187</td>\n",
       "      <td>12-12-2015</td>\n",
       "      <td>other vegetables</td>\n",
       "    </tr>\n",
       "    <tr>\n",
       "      <th>4</th>\n",
       "      <td>3037</td>\n",
       "      <td>01-02-2015</td>\n",
       "      <td>whole milk</td>\n",
       "    </tr>\n",
       "  </tbody>\n",
       "</table>\n",
       "</div>"
      ],
      "text/plain": [
       "   Member_number        Date   itemDescription\n",
       "0           1808  21-07-2015    tropical fruit\n",
       "1           2552  05-01-2015        whole milk\n",
       "2           2300  19-09-2015         pip fruit\n",
       "3           1187  12-12-2015  other vegetables\n",
       "4           3037  01-02-2015        whole milk"
      ]
     },
     "execution_count": 8,
     "metadata": {},
     "output_type": "execute_result"
    }
   ],
   "source": [
    "df.head()"
   ]
  },
  {
   "cell_type": "code",
   "execution_count": 12,
   "id": "305947de",
   "metadata": {},
   "outputs": [
    {
     "data": {
      "application/vnd.microsoft.datawrangler.viewer.v0+json": {
       "columns": [
        {
         "name": "index",
         "rawType": "object",
         "type": "string"
        },
        {
         "name": "0",
         "rawType": "int64",
         "type": "integer"
        }
       ],
       "ref": "d44e0b94-2e24-46ed-a271-3282761d271e",
       "rows": [
        [
         "Member_number",
         "0"
        ],
        [
         "Date",
         "0"
        ],
        [
         "itemDescription",
         "0"
        ]
       ],
       "shape": {
        "columns": 1,
        "rows": 3
       }
      },
      "text/plain": [
       "Member_number      0\n",
       "Date               0\n",
       "itemDescription    0\n",
       "dtype: int64"
      ]
     },
     "execution_count": 12,
     "metadata": {},
     "output_type": "execute_result"
    }
   ],
   "source": [
    "#checking for missing values\n",
    "df.isnull().sum()"
   ]
  },
  {
   "cell_type": "code",
   "execution_count": null,
   "id": "5bffbb69",
   "metadata": {},
   "outputs": [
    {
     "data": {
      "application/vnd.microsoft.datawrangler.viewer.v0+json": {
       "columns": [
        {
         "name": "index",
         "rawType": "int64",
         "type": "integer"
        },
        {
         "name": "Member_number",
         "rawType": "int64",
         "type": "integer"
        },
        {
         "name": "Date",
         "rawType": "datetime64[ns]",
         "type": "datetime"
        },
        {
         "name": "itemDescription",
         "rawType": "object",
         "type": "string"
        }
       ],
       "ref": "db3cd9ed-4f2c-41ed-b8c7-1ee2459a3cf4",
       "rows": [
        [
         "0",
         "1808",
         "2015-07-21 00:00:00",
         "tropical fruit"
        ],
        [
         "1",
         "2552",
         "2015-01-05 00:00:00",
         "whole milk"
        ],
        [
         "2",
         "2300",
         "2015-09-19 00:00:00",
         "pip fruit"
        ],
        [
         "3",
         "1187",
         "2015-12-12 00:00:00",
         "other vegetables"
        ],
        [
         "4",
         "3037",
         "2015-02-01 00:00:00",
         "whole milk"
        ]
       ],
       "shape": {
        "columns": 3,
        "rows": 5
       }
      },
      "text/html": [
       "<div>\n",
       "<style scoped>\n",
       "    .dataframe tbody tr th:only-of-type {\n",
       "        vertical-align: middle;\n",
       "    }\n",
       "\n",
       "    .dataframe tbody tr th {\n",
       "        vertical-align: top;\n",
       "    }\n",
       "\n",
       "    .dataframe thead th {\n",
       "        text-align: right;\n",
       "    }\n",
       "</style>\n",
       "<table border=\"1\" class=\"dataframe\">\n",
       "  <thead>\n",
       "    <tr style=\"text-align: right;\">\n",
       "      <th></th>\n",
       "      <th>Member_number</th>\n",
       "      <th>Date</th>\n",
       "      <th>itemDescription</th>\n",
       "    </tr>\n",
       "  </thead>\n",
       "  <tbody>\n",
       "    <tr>\n",
       "      <th>0</th>\n",
       "      <td>1808</td>\n",
       "      <td>2015-07-21</td>\n",
       "      <td>tropical fruit</td>\n",
       "    </tr>\n",
       "    <tr>\n",
       "      <th>1</th>\n",
       "      <td>2552</td>\n",
       "      <td>2015-01-05</td>\n",
       "      <td>whole milk</td>\n",
       "    </tr>\n",
       "    <tr>\n",
       "      <th>2</th>\n",
       "      <td>2300</td>\n",
       "      <td>2015-09-19</td>\n",
       "      <td>pip fruit</td>\n",
       "    </tr>\n",
       "    <tr>\n",
       "      <th>3</th>\n",
       "      <td>1187</td>\n",
       "      <td>2015-12-12</td>\n",
       "      <td>other vegetables</td>\n",
       "    </tr>\n",
       "    <tr>\n",
       "      <th>4</th>\n",
       "      <td>3037</td>\n",
       "      <td>2015-02-01</td>\n",
       "      <td>whole milk</td>\n",
       "    </tr>\n",
       "  </tbody>\n",
       "</table>\n",
       "</div>"
      ],
      "text/plain": [
       "   Member_number       Date   itemDescription\n",
       "0           1808 2015-07-21    tropical fruit\n",
       "1           2552 2015-01-05        whole milk\n",
       "2           2300 2015-09-19         pip fruit\n",
       "3           1187 2015-12-12  other vegetables\n",
       "4           3037 2015-02-01        whole milk"
      ]
     },
     "execution_count": 10,
     "metadata": {},
     "output_type": "execute_result"
    }
   ],
   "source": [
    "#clearing column names\n",
    "df.columns = df.columns.str.strip()\n",
    "#altering date column to datetime format\n",
    "df['Date'] = pd.to_datetime(df['Date'])\n",
    "df.head()"
   ]
  },
  {
   "cell_type": "code",
   "execution_count": 16,
   "id": "19fb3559",
   "metadata": {},
   "outputs": [
    {
     "data": {
      "application/vnd.microsoft.datawrangler.viewer.v0+json": {
       "columns": [
        {
         "name": "index",
         "rawType": "int64",
         "type": "integer"
        },
        {
         "name": "Member_number",
         "rawType": "int64",
         "type": "integer"
        },
        {
         "name": "Date",
         "rawType": "datetime64[ns]",
         "type": "datetime"
        },
        {
         "name": "itemDescription",
         "rawType": "object",
         "type": "string"
        },
        {
         "name": "TransactionID",
         "rawType": "object",
         "type": "string"
        }
       ],
       "ref": "891702fa-8c76-4138-9346-349420dce709",
       "rows": [
        [
         "0",
         "1808",
         "2015-07-21 00:00:00",
         "tropical fruit",
         "1808_2015-07-21"
        ],
        [
         "1",
         "2552",
         "2015-01-05 00:00:00",
         "whole milk",
         "2552_2015-01-05"
        ],
        [
         "2",
         "2300",
         "2015-09-19 00:00:00",
         "pip fruit",
         "2300_2015-09-19"
        ],
        [
         "3",
         "1187",
         "2015-12-12 00:00:00",
         "other vegetables",
         "1187_2015-12-12"
        ],
        [
         "4",
         "3037",
         "2015-02-01 00:00:00",
         "whole milk",
         "3037_2015-02-01"
        ]
       ],
       "shape": {
        "columns": 4,
        "rows": 5
       }
      },
      "text/html": [
       "<div>\n",
       "<style scoped>\n",
       "    .dataframe tbody tr th:only-of-type {\n",
       "        vertical-align: middle;\n",
       "    }\n",
       "\n",
       "    .dataframe tbody tr th {\n",
       "        vertical-align: top;\n",
       "    }\n",
       "\n",
       "    .dataframe thead th {\n",
       "        text-align: right;\n",
       "    }\n",
       "</style>\n",
       "<table border=\"1\" class=\"dataframe\">\n",
       "  <thead>\n",
       "    <tr style=\"text-align: right;\">\n",
       "      <th></th>\n",
       "      <th>Member_number</th>\n",
       "      <th>Date</th>\n",
       "      <th>itemDescription</th>\n",
       "      <th>TransactionID</th>\n",
       "    </tr>\n",
       "  </thead>\n",
       "  <tbody>\n",
       "    <tr>\n",
       "      <th>0</th>\n",
       "      <td>1808</td>\n",
       "      <td>2015-07-21</td>\n",
       "      <td>tropical fruit</td>\n",
       "      <td>1808_2015-07-21</td>\n",
       "    </tr>\n",
       "    <tr>\n",
       "      <th>1</th>\n",
       "      <td>2552</td>\n",
       "      <td>2015-01-05</td>\n",
       "      <td>whole milk</td>\n",
       "      <td>2552_2015-01-05</td>\n",
       "    </tr>\n",
       "    <tr>\n",
       "      <th>2</th>\n",
       "      <td>2300</td>\n",
       "      <td>2015-09-19</td>\n",
       "      <td>pip fruit</td>\n",
       "      <td>2300_2015-09-19</td>\n",
       "    </tr>\n",
       "    <tr>\n",
       "      <th>3</th>\n",
       "      <td>1187</td>\n",
       "      <td>2015-12-12</td>\n",
       "      <td>other vegetables</td>\n",
       "      <td>1187_2015-12-12</td>\n",
       "    </tr>\n",
       "    <tr>\n",
       "      <th>4</th>\n",
       "      <td>3037</td>\n",
       "      <td>2015-02-01</td>\n",
       "      <td>whole milk</td>\n",
       "      <td>3037_2015-02-01</td>\n",
       "    </tr>\n",
       "  </tbody>\n",
       "</table>\n",
       "</div>"
      ],
      "text/plain": [
       "   Member_number       Date   itemDescription    TransactionID\n",
       "0           1808 2015-07-21    tropical fruit  1808_2015-07-21\n",
       "1           2552 2015-01-05        whole milk  2552_2015-01-05\n",
       "2           2300 2015-09-19         pip fruit  2300_2015-09-19\n",
       "3           1187 2015-12-12  other vegetables  1187_2015-12-12\n",
       "4           3037 2015-02-01        whole milk  3037_2015-02-01"
      ]
     },
     "execution_count": 16,
     "metadata": {},
     "output_type": "execute_result"
    }
   ],
   "source": [
    "#integrating transactions per date\n",
    "df['TransactionID'] = df['Member_number'].astype(str) + '_' + df['Date'].dt.strftime('%Y-%m-%d')\n",
    "df.head()"
   ]
  },
  {
   "cell_type": "code",
   "execution_count": 25,
   "id": "bb07dbc2",
   "metadata": {},
   "outputs": [
    {
     "name": "stdout",
     "output_type": "stream",
     "text": [
      "Baseline basket length: {'m_transactions': 14963, 'len_mean': 2.590723785337165, 'len_median': 2.0, 'len_q10': 2.0, 'len_q90': 4.0}\n",
      "Baseline top-10 item relative freq:\n",
      " itemDescription\n",
      "whole milk          0.167212\n",
      "other vegetables    0.126846\n",
      "rolls/buns          0.114683\n",
      "soda                0.101183\n",
      "yogurt              0.089153\n",
      "root vegetables     0.071577\n",
      "tropical fruit      0.068970\n",
      "bottled water       0.062354\n",
      "sausage             0.061752\n",
      "citrus fruit        0.054267\n",
      "Name: count, dtype: float64\n"
     ]
    },
    {
     "data": {
      "image/png": "[encoded data removed]",
      "text/plain": [
       "<Figure size 640x480 with 1 Axes>"
      ]
     },
     "metadata": {},
     "output_type": "display_data"
    }
   ],
   "source": [
    "lens = df.groupby('TransactionID')['itemDescription'].count()\n",
    "base_stats = {\n",
    "    'm_transactions': lens.shape[0],\n",
    "    'len_mean': float(lens.mean()),\n",
    "    'len_median': float(lens.median()),\n",
    "    'len_q10': float(lens.quantile(0.10)),\n",
    "    'len_q90': float(lens.quantile(0.90)),\n",
    "}\n",
    "print(\"Baseline basket length:\", base_stats)\n",
    "\n",
    "top_counts = df['itemDescription'].value_counts()\n",
    "top_rel = (top_counts / lens.shape[0]).head(10)\n",
    "print(\"Baseline top-10 item relative freq:\\n\", top_rel)\n",
    "#graphing top 10 items\n",
    "import matplotlib.pyplot as plt\n",
    "top_counts.head(10).plot(kind='barh')\n",
    "plt.gca().invert_yaxis()\n",
    "plt.ylabel('Frequency')\n",
    "plt.xlabel('Item Description')\n",
    "plt.title('Top 10 Most Frequent Items')\n",
    "plt.show()"
   ]
  },
  {
   "cell_type": "markdown",
   "id": "05a58eac",
   "metadata": {},
   "source": [
    "Now we have preprocessed the data into one-hot encoded dataset, which is suitable for association mining. "
   ]
  },
  {
   "cell_type": "code",
   "execution_count": 27,
   "id": "7fd8edc6",
   "metadata": {},
   "outputs": [
    {
     "name": "stdout",
     "output_type": "stream",
     "text": [
      "Total unique transactions: 14963\n"
     ]
    }
   ],
   "source": [
    "#splitting dataset into 6 chunks\n",
    "TARGET_M_LIST = [500, 1000, 2000, 5000, 10000, 20000]  # 按你数据量/电脑性能调整\n",
    "RNG = np.random.default_rng(42)\n",
    "\n",
    "#transactionIDs\n",
    "all_transaction_ids = basket_df['TransactionID'].unique()\n",
    "len_transactions = len(all_transaction_ids)\n",
    "print(f\"Total unique transactions: {len_transactions}\")"
   ]
  },
  {
   "cell_type": "code",
   "execution_count": 29,
   "id": "f7ef51fb",
   "metadata": {},
   "outputs": [
    {
     "name": "stdout",
     "output_type": "stream",
     "text": [
      "[m=500] tall=   1337, number of transactions=   500\n",
      "[m=1000] tall=   2689, number of transactions=  1000\n",
      "[m=2000] tall=   5176, number of transactions=  2000\n",
      "[m=5000] tall=  12819, number of transactions=  5000\n",
      "[m=10000] tall=  25842, number of transactions= 10000\n",
      "[m=14963] tall=  38765, number of transactions= 14963\n"
     ]
    }
   ],
   "source": [
    "subsets = {}\n",
    "\n",
    "for m in TARGET_M_LIST:\n",
    "    m_eff = min(m, len(all_transaction_ids))  \n",
    "    chosen = RNG.choice(all_transaction_ids, size=m_eff, replace=False)\n",
    "    chosen = set(chosen)\n",
    "\n",
    "    # sampling from original detailed df\n",
    "    df_sub = df[df['TransactionID'].isin(chosen)].copy()\n",
    "\n",
    "    # if backet_df exists, use it to get wide format\n",
    "    if 'basket_df' in globals():\n",
    "        basket_sub = basket_df[basket_df['TransactionID'].isin(chosen)].copy()\n",
    "    else:\n",
    "        # else recreate wide format from df_sub\n",
    "        basket_sub = (\n",
    "            df_sub.groupby('TransactionID')['itemDescription']\n",
    "                  .apply(lambda s: ','.join(sorted(s.unique())))\n",
    "                  .reset_index()\n",
    "                  .rename(columns={'itemDescription':'Items'})\n",
    "        )\n",
    "\n",
    "    subsets[m] = {'tall': df_sub, 'wide': basket_sub}\n",
    "\n",
    "    print(f\"[m={m_eff}] tall={len(df_sub):>7}, number of transactions={df_sub['TransactionID'].nunique():>6}\")\n"
   ]
  },
  {
   "cell_type": "code",
   "execution_count": null,
   "id": "162e917b",
   "metadata": {},
   "outputs": [],
   "source": []
  },
  {
   "cell_type": "code",
   "execution_count": null,
   "id": "f3db2418",
   "metadata": {},
   "outputs": [],
   "source": []
  },
  {
   "cell_type": "code",
   "execution_count": null,
   "id": "d54f5eb3",
   "metadata": {},
   "outputs": [],
   "source": []
  },
  {
   "cell_type": "code",
   "execution_count": null,
   "id": "fcb4c3ea",
   "metadata": {},
   "outputs": [],
   "source": []
  },
  {
   "cell_type": "code",
   "execution_count": null,
   "id": "4f22c88f",
   "metadata": {},
   "outputs": [],
   "source": []
  },
  {
   "cell_type": "code",
   "execution_count": null,
   "id": "074bb6b7",
   "metadata": {},
   "outputs": [],
   "source": []
  },
  {
   "cell_type": "code",
   "execution_count": null,
   "id": "d39668d9",
   "metadata": {},
   "outputs": [],
   "source": []
  },
  {
   "cell_type": "code",
   "execution_count": null,
   "id": "b36edda5",
   "metadata": {},
   "outputs": [],
   "source": []
  },
  {
   "cell_type": "code",
   "execution_count": null,
   "metadata": {},
   "outputs": [],
   "source": []
  },
  {
   "cell_type": "code",
   "execution_count": null,
   "id": "21503d96",
   "metadata": {},
   "outputs": [],
   "source": []
  }
 ],
 "metadata": {
  "kernelspec": {
   "display_name": "Python 3",
   "language": "python",
   "name": "python3"
  },
  "language_info": {
   "codemirror_mode": {
    "name": "ipython",
    "version": 3
   },
   "file_extension": ".py",
   "mimetype": "text/x-python",
   "name": "python",
   "nbconvert_exporter": "python",
   "pygments_lexer": "ipython3",
   "version": "3.11.9"
  }
 },
 "nbformat": 4,
 "nbformat_minor": 5
}
